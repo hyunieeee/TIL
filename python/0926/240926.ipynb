{
 "cells": [
  {
   "cell_type": "code",
   "execution_count": 12,
   "id": "8fb945be-87c6-4ed6-8cea-8621373c713e",
   "metadata": {},
   "outputs": [
    {
     "name": "stdout",
     "output_type": "stream",
     "text": [
      "자전거: 시속60 킬로미터로 전진\n",
      "26,black의 특성을 가진 자전거님 정지하세요\n"
     ]
    }
   ],
   "source": [
    "class Bicycle():\n",
    "    def __init__(self, wheel_size, color):\n",
    "        self.wheel_size = wheel_size\n",
    "        self.color = color\n",
    "    \n",
    "    # method\n",
    "    def move(self,speed):\n",
    "        print(f\"자전거: 시속{speed} 킬로미터로 전진\")\n",
    "\n",
    "    def stop(self):\n",
    "        print(f\"{self.wheel_size},{self.color}의 특성을 가진 자전거님 정지하세요\")\n",
    "\n",
    "my_bicycle = Bicycle(26,'black')\n",
    "my_bicycle.move(60)\n",
    "my_bicycle.stop()"
   ]
  },
  {
   "cell_type": "code",
   "execution_count": 6,
   "id": "84c05067-3e18-4fd7-adac-e85ffb61273e",
   "metadata": {},
   "outputs": [],
   "source": [
    "class Person():\n",
    "    def __init__(self,name,age):\n",
    "        self.name = name\n",
    "        self.age = age\n",
    "\n",
    "    def greet(self):\n",
    "        print(f\"안녕하세요, 저는 {self.name}이고, 현재 {self.age} 살입니다\")"
   ]
  },
  {
   "cell_type": "code",
   "execution_count": 8,
   "id": "c13fc70d-6f2b-4213-8433-3691722c3cdf",
   "metadata": {},
   "outputs": [
    {
     "name": "stdout",
     "output_type": "stream",
     "text": [
      "안녕하세요, 저는 Carla이고, 현재 40 살입니다\n"
     ]
    }
   ],
   "source": [
    "carla = Person(\"Carla\",40)\n",
    "carla.greet()"
   ]
  },
  {
   "cell_type": "code",
   "execution_count": 9,
   "id": "38365b18-9e25-4196-8c94-c87db9bda538",
   "metadata": {},
   "outputs": [],
   "source": [
    "class Person():\n",
    "    def __init__(self,name,age):\n",
    "        self.name = name\n",
    "        self.age = age\n",
    "\n",
    "    def greet(self,other_name = \"친구\"):\n",
    "        print (f\"안녕하세요, {other_name}님 저는 {self.name}이고, 현재{self.age} 살 입니다\")"
   ]
  },
  {
   "cell_type": "code",
   "execution_count": 10,
   "id": "ee30efba-8f1e-4c73-a8eb-553b73118f35",
   "metadata": {},
   "outputs": [
    {
     "name": "stdout",
     "output_type": "stream",
     "text": [
      "안녕하세요, 종현님 저는 요원이고, 현재14 살 입니다\n"
     ]
    }
   ],
   "source": [
    "yowon = Person(\"요원\",14)\n",
    "yowon.greet(other_name='종현')"
   ]
  },
  {
   "cell_type": "code",
   "execution_count": 15,
   "id": "91a9549a-6c74-4618-9369-f49de3f7838a",
   "metadata": {},
   "outputs": [
    {
     "name": "stdout",
     "output_type": "stream",
     "text": [
      "자동차 객체의 수:1\n",
      "자동차 객체의 수:2\n",
      "자동차 객체의 수:3\n",
      "자동차 small,white가 움직입니다.\n"
     ]
    }
   ],
   "source": [
    "class Car():\n",
    "    #클래스 변수 \n",
    "    instance_count = 0 # 클래 변수 생성 및 초기화\n",
    "\n",
    "    def __init__(self,size,color):\n",
    "        self.size = size\n",
    "        self.color = color\n",
    "        Car.instance_count = Car.instance_count + 1 # 클래스 변수 이용하는 방법\n",
    "        print(f\"자동차 객체의 수:{Car.instance_count}\")\n",
    "\n",
    "    def move(self):\n",
    "        print(f\"자동차 {self.size},{self.color}가 움직입니다.\")\n",
    "\n",
    "\n",
    "car1 = Car('small','white')\n",
    "car2 = Car('big','black')\n",
    "car3 = Car('medium','yellow')\n",
    "car1.move()"
   ]
  },
  {
   "cell_type": "markdown",
   "id": "4b1d68a9-83b3-41a0-9361-83d2f9d82578",
   "metadata": {},
   "source": [
    "## 기본 상속"
   ]
  },
  {
   "cell_type": "code",
   "execution_count": 20,
   "id": "9784ece6-13ab-4428-853d-12e67d95ec3f",
   "metadata": {},
   "outputs": [],
   "source": [
    "class Animal:\n",
    "\n",
    "    name=\" \"\n",
    "\n",
    "    def Eating(self):\n",
    "        print(\"저는 음식을 먹습니다\")"
   ]
  },
  {
   "cell_type": "code",
   "execution_count": 19,
   "id": "b7f25e71-052c-455d-9465-028ad9b946d2",
   "metadata": {},
   "outputs": [],
   "source": [
    "class Dog(Animal):\n",
    "    \n",
    "    def self_introduce(self):\n",
    "        print(f\"내 이름은{self.name}\")"
   ]
  },
  {
   "cell_type": "code",
   "execution_count": 21,
   "id": "692f0a4d-4aa3-47cb-ab91-804d8b56ef3c",
   "metadata": {},
   "outputs": [
    {
     "name": "stdout",
     "output_type": "stream",
     "text": [
      "저는 음식을 먹습니다\n",
      "내 이름은아무거나\n"
     ]
    }
   ],
   "source": [
    "Dog1 = Dog()\n",
    "Dog1.name =\"아무거나\"\n",
    "Dog1.Eating()\n",
    "Dog1.self_introduce()"
   ]
  },
  {
   "cell_type": "markdown",
   "id": "470d055d-29d6-42c6-809e-ff44bf39b6c0",
   "metadata": {},
   "source": [
    "- 상속은 is-a 관계\n",
    "  - car is a vehicle\n",
    "    - 상위: vehicle\n",
    "    - 하위: Car\n",
    "  - Apple is a Fruit\n",
    "    - 상위: fruit\n",
    "    - 하위: apple"
   ]
  },
  {
   "cell_type": "markdown",
   "id": "dbe53bed-4bb3-48c4-afb1-9469e8baef99",
   "metadata": {},
   "source": [
    "## 다중상속"
   ]
  },
  {
   "cell_type": "code",
   "execution_count": 22,
   "id": "c4a7a281-3f9e-43b4-aafc-b5b9612ba7b3",
   "metadata": {},
   "outputs": [],
   "source": [
    "class 포유류:\n",
    "    def 포유류_정보(self):\n",
    "        print(\"포유류의 특징은 새끼를 낳는다는 것이다\")\n",
    "\n",
    "class 조류:\n",
    "    def 조류_정보(self):\n",
    "        print(\"조류는 날 수 있다\")\n",
    "\n",
    "class 박쥐(포유류,조류):\n",
    "    pass # 아직 구현하지 않은 클래스"
   ]
  },
  {
   "cell_type": "code",
   "execution_count": 24,
   "id": "a75aac74-630d-41a6-bc41-d2df05d7f1d0",
   "metadata": {},
   "outputs": [
    {
     "name": "stdout",
     "output_type": "stream",
     "text": [
      "포유류의 특징은 새끼를 낳는다는 것이다\n"
     ]
    }
   ],
   "source": [
    "b1 = 박쥐()\n",
    "b1.포유류_정보()"
   ]
  },
  {
   "cell_type": "code",
   "execution_count": 25,
   "id": "a6f806ca-d498-4f37-b212-144ad6737c38",
   "metadata": {},
   "outputs": [
    {
     "name": "stdout",
     "output_type": "stream",
     "text": [
      "조류는 날 수 있다\n"
     ]
    }
   ],
   "source": [
    "b1.조류_정보()"
   ]
  },
  {
   "cell_type": "markdown",
   "id": "0ca8ca0d-f25d-46bc-8d03-41abdaf12ed5",
   "metadata": {},
   "source": [
    "## 클래스 설계를 하다보면 부딪히는 흔한 문제\n",
    "- 메서드명이 같을 때\n",
    "- 오버라이딩, 다형성"
   ]
  },
  {
   "cell_type": "code",
   "execution_count": 40,
   "id": "fe41b7a2-0f95-4dc9-ac75-fbcb96419dbc",
   "metadata": {},
   "outputs": [],
   "source": [
    "class Car:\n",
    "    def __init__(self,make,model,year):\n",
    "        self.make = make # 제조사\n",
    "        self.model = model # 모델\n",
    "        self.year = year  #제조 연도\n",
    "        self.kilometer_reading = 0 #주행거리 (초깃값 0)\n",
    "        \n",
    "    # 자동차의 전체 설명을 반환하는 메서드\n",
    "    def get_description(self):\n",
    "        return (f\"{self.year},{self.make},{self.model}\")\n",
    "        \n",
    "    # 현재 주행 거리 출력 메서드\n",
    "    def read_kilometer(self):\n",
    "        print(f\"이 자동차의 현재 주행 거리는{self.kilometer_reading} 킬로미터입니다\")\n",
    "        \n",
    "    # 주행거리 업데이트\n",
    "    # 새로운 값이 기존 값보다 클 경우에만 업데이트\n",
    "    def update_kilometer(self,kilometer):\n",
    "        if kilometers >= self.kilometer_reading:\n",
    "            self.kilometer_reaing = kilometers\n",
    "            print(f\"업데이트 확인: {self.kilometer_reading} 킬로미터\")\n",
    "        else:\n",
    "            print(f\"현재: {self.kilometer_reading}, 다시 입력해주세여\")\n",
    "\n",
    "    # 주행거리 증가시키기\n",
    "    def increment_kilometer(self,kilometers):\n",
    "        if kilometers > 0:\n",
    "            self.kilometer_reading += kilometers\n",
    "        else:\n",
    "            print(\"음수가 입력되었습니다. 양수로 입력해주세요\")"
   ]
  },
  {
   "cell_type": "code",
   "execution_count": 41,
   "id": "b5eb474c-37a4-477e-a4c8-1a188f07e6a2",
   "metadata": {},
   "outputs": [
    {
     "name": "stdout",
     "output_type": "stream",
     "text": [
      "2024,현대,아반떼\n",
      "이 자동차의 현재 주행 거리는0 킬로미터입니다\n",
      "이 자동차의 현재 주행 거리는100 킬로미터입니다\n"
     ]
    }
   ],
   "source": [
    "my_car= Car(\"현대\",\"아반떼\",2024)\n",
    "description = my_car.get_description()\n",
    "print(description)\n",
    "\n",
    "my_car.read_kilometer()\n",
    "my_car.increment_kilometer(100)\n",
    "my_car.read_kilometer()"
   ]
  },
  {
   "cell_type": "code",
   "execution_count": 42,
   "id": "72b3cb74-9d1b-44fa-a44e-87804f487b61",
   "metadata": {},
   "outputs": [],
   "source": [
    "from math import pi \n",
    "\n",
    "# 상위 클래스 (모양)\n",
    "class Shape:\n",
    "    def __init__(self, name):\n",
    "        self.name = name\n",
    "\n",
    "    def area(self):\n",
    "        pass\n",
    "\n",
    "    def fact(self):\n",
    "        return(\"나는 2차원 도형\")\n",
    "\n",
    "class Square(Shape):\n",
    "    def __init__(self,length):\n",
    "        super(). __init__(\"Square\")\n",
    "        self.length = length\n",
    "\n",
    "    def area(self):\n",
    "        return self.length ** 2\n",
    "\n",
    "# 원 하위 클래스\n",
    "class Circle(Shape):\n",
    "    def __init__(self,radius):\n",
    "        super().__init__(\"Circle\")\n",
    "        self.radius = radius\n",
    "\n",
    "    def area(self):\n",
    "        return (pi * self.radius **2)"
   ]
  },
  {
   "cell_type": "code",
   "execution_count": 44,
   "id": "99623b83-d08f-4dba-818a-658ef904b035",
   "metadata": {},
   "outputs": [
    {
     "ename": "TypeError",
     "evalue": "unsupported operand type(s) for +: 'A' and 'A'",
     "output_type": "error",
     "traceback": [
      "\u001b[0;31m---------------------------------------------------------------------------\u001b[0m",
      "\u001b[0;31mTypeError\u001b[0m                                 Traceback (most recent call last)",
      "Cell \u001b[0;32mIn[44], line 8\u001b[0m\n\u001b[1;32m      5\u001b[0m a1 \u001b[38;5;241m=\u001b[39m A(\u001b[38;5;241m2\u001b[39m)\n\u001b[1;32m      6\u001b[0m a2 \u001b[38;5;241m=\u001b[39m A(\u001b[38;5;241m3\u001b[39m)\n\u001b[0;32m----> 8\u001b[0m a3 \u001b[38;5;241m=\u001b[39m \u001b[43ma1\u001b[49m\u001b[43m \u001b[49m\u001b[38;5;241;43m+\u001b[39;49m\u001b[43m \u001b[49m\u001b[43ma2\u001b[49m\n\u001b[1;32m      9\u001b[0m \u001b[38;5;28mprint\u001b[39m(a3\u001b[38;5;241m.\u001b[39mvalue)\n",
      "\u001b[0;31mTypeError\u001b[0m: unsupported operand type(s) for +: 'A' and 'A'"
     ]
    }
   ],
   "source": [
    "class A: \n",
    "    def __init__(self,value):\n",
    "        self.value = value\n",
    "\n",
    "a1 = A(2)\n",
    "a2 = A(3)\n",
    "\n",
    "a3 = a1 + a2\n",
    "print(a3.value)"
   ]
  },
  {
   "cell_type": "code",
   "execution_count": 47,
   "id": "7fd09482-4345-4311-9d35-4dbc89ab818d",
   "metadata": {},
   "outputs": [
    {
     "name": "stdout",
     "output_type": "stream",
     "text": [
      "5\n"
     ]
    }
   ],
   "source": [
    "class A:\n",
    "    def __init__(self,value):\n",
    "        self.value = value\n",
    "\n",
    "    # 연산자 오버로딩\n",
    "    def __add__(self,other):\n",
    "        result = self.value + other.value\n",
    "        return A(result)\n",
    "\n",
    "a1 = A(2)\n",
    "a2 = A(3)\n",
    "\n",
    "a3 = a1 + a2\n",
    "print(a3.value)"
   ]
  },
  {
   "cell_type": "code",
   "execution_count": 63,
   "id": "70d07fd3-ede8-44fe-9c50-2ed9de9513b0",
   "metadata": {},
   "outputs": [
    {
     "data": {
      "text/plain": [
       "'A,carla,500'"
      ]
     },
     "execution_count": 63,
     "metadata": {},
     "output_type": "execute_result"
    }
   ],
   "source": [
    "class Book:\n",
    "    def __init__(self,title,author,pages):\n",
    "        self.title = title\n",
    "        self.author = author\n",
    "        self.pages = pages\n",
    "        self.current_pages = 0\n",
    "\n",
    "    def book_description(self):\n",
    "        return(f\"{self.title},{self.author},{self.pages}\")\n",
    "\n",
    "    def read(self,pages):\n",
    "        if self.current_pages + pages <= self.pages:\n",
    "            self.current_pages += pages\n",
    "            print(f\"{pages}페이지를 읽었습니다. 현재 {self.current_page}페이지에 있습니다.\")\n",
    "        else:\n",
    "            print(f\"책의 총 페이지 수를 초과할 수 없습니다\")\n",
    "\n",
    "    def book_progress(self):\n",
    "        print(f\"이 책은 총 {self.pages}쪽이며, 현재 {self.current_pages}페이지를 읽었습니다\")\n",
    "\n",
    "book1 = Book(\"A\",\"carla\",500)\n",
    "book1.book_description()           \n",
    "            "
   ]
  },
  {
   "cell_type": "code",
   "execution_count": null,
   "id": "eb0152bf-1fcf-4cc3-a95d-528d9eeab732",
   "metadata": {},
   "outputs": [],
   "source": [
    "class Spaceship:\n",
    "    def __init__(self,color,speed,passengers):\n",
    "        sel"
   ]
  }
 ],
 "metadata": {
  "kernelspec": {
   "display_name": "Python 3 (ipykernel)",
   "language": "python",
   "name": "python3"
  },
  "language_info": {
   "codemirror_mode": {
    "name": "ipython",
    "version": 3
   },
   "file_extension": ".py",
   "mimetype": "text/x-python",
   "name": "python",
   "nbconvert_exporter": "python",
   "pygments_lexer": "ipython3",
   "version": "3.12.6"
  }
 },
 "nbformat": 4,
 "nbformat_minor": 5
}
