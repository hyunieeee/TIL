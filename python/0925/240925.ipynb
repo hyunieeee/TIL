{
 "cells": [
  {
   "cell_type": "markdown",
   "id": "0fa695a4-3cc5-46de-a606-1b205f809710",
   "metadata": {},
   "source": [
    "# 제어문"
   ]
  },
  {
   "cell_type": "code",
   "execution_count": 1,
   "id": "a9cfb69d-88c0-4fe0-aaaf-711a5157b320",
   "metadata": {},
   "outputs": [
    {
     "name": "stdin",
     "output_type": "stream",
     "text": [
      "성적을 입력하세요 90\n"
     ]
    },
    {
     "name": "stdout",
     "output_type": "stream",
     "text": [
      "pass\n"
     ]
    }
   ],
   "source": [
    "# 단일 조건에 따른 분기\n",
    "\n",
    "x = int(input('성적을 입력하세요'))\n",
    "\n",
    "if x >= 90:\n",
    "    print (\"pass\") # indentation"
   ]
  },
  {
   "cell_type": "code",
   "execution_count": 2,
   "id": "ed7e4f60-ea03-4656-9207-d67ddc3f874a",
   "metadata": {},
   "outputs": [
    {
     "name": "stdin",
     "output_type": "stream",
     "text": [
      "성적을 입력하세요 40\n"
     ]
    },
    {
     "name": "stdout",
     "output_type": "stream",
     "text": [
      "Fail\n"
     ]
    }
   ],
   "source": [
    "# 단일 조건 및 그 외 조건에 따른 분기\n",
    "\n",
    "x = int(input('성적을 입력하세요'))\n",
    "\n",
    "if x >= 90:\n",
    "    print (\"Pass\")\n",
    "else: \n",
    "    print (\"Fail\")"
   ]
  },
  {
   "cell_type": "code",
   "execution_count": 3,
   "id": "c08b704a-201c-425f-bfa7-5fb7ee023ea0",
   "metadata": {},
   "outputs": [
    {
     "name": "stdin",
     "output_type": "stream",
     "text": [
      "성적을 입력하세요 87\n"
     ]
    },
    {
     "name": "stdout",
     "output_type": "stream",
     "text": [
      "조건부 pass\n"
     ]
    }
   ],
   "source": [
    "# 여러 조건에 따른 분기\n",
    "x = int(input('성적을 입력하세요'))\n",
    "\n",
    "if x >= 90:\n",
    "    print (\"Pass\")\n",
    "elif (x >= 80) and (x < 90):\n",
    "    print (\"조건부 pass\")\n",
    "else: \n",
    "    print (\"Fail\")"
   ]
  },
  {
   "cell_type": "code",
   "execution_count": null,
   "id": "0f2e5d6f-16e9-4d9f-bb4f-349a2bc94372",
   "metadata": {},
   "outputs": [],
   "source": [
    "x = 88\n",
    "\n",
    "if(x >= 80) and (x < 90):\n",
    "    print('조건부 pass')\n",
    "\n",
    "''' \n",
    "긴 코드의 경우, 이렇게 단계적으로 분할을 해서 해석하는 것이 좋음\n",
    "하나씩 가능한지 확인하기에 좋음 \n",
    "'''"
   ]
  },
  {
   "cell_type": "markdown",
   "id": "938a99b7-f384-4b44-9a8f-8f3d07a8de6f",
   "metadata": {},
   "source": [
    "## 중첩 조건에 따른 분기\n",
    "- 시나리오\n",
    "- 90점 이상: 합격\n",
    "- 100점 : 장학금 지급\n",
    "- 80점 이상: 조건부 합격\n",
    "- 그 외 탈락"
   ]
  },
  {
   "cell_type": "code",
   "execution_count": null,
   "id": "96e174fc-390d-472b-8a29-cfd5b84d2217",
   "metadata": {},
   "outputs": [],
   "source": [
    "# 중첩 조건에 따른 분기 \n",
    "\n",
    "x = int(input('성적을 입력하세요'))\n",
    "\n",
    "if x >= 90:\n",
    "    if x == 100:\n",
    "        print (\"장학금 지급\")\n",
    "    else:\n",
    "        print (\"Pass\")\n",
    "elif (x >= 80) and (x < 90):\n",
    "    print (\"조건부 pass\")\n",
    "else: \n",
    "    print (\"Fail\")"
   ]
  },
  {
   "cell_type": "markdown",
   "id": "81f234e7-ce33-41c9-8238-1c359294d588",
   "metadata": {},
   "source": [
    "# 반복문"
   ]
  },
  {
   "cell_type": "code",
   "execution_count": 4,
   "id": "2770d210-ea87-4d9f-b013-d7c9e4ceb19d",
   "metadata": {},
   "outputs": [
    {
     "name": "stdout",
     "output_type": "stream",
     "text": [
      "안녕하세욤\n",
      "안녕하세욤\n",
      "안녕하세욤\n"
     ]
    }
   ],
   "source": [
    "for i in range(3): # i는 임의의 변수\n",
    "    print('안녕하세욤')"
   ]
  },
  {
   "cell_type": "markdown",
   "id": "8fe27139-4336-4847-9863-5bdbcb0eeda1",
   "metadata": {},
   "source": [
    "- 시퀀스 자료형이 range 대신에 들어감\n",
    "- sequence는 순서가 있는 데이터 구조의 추상 클래스임\n"
   ]
  },
  {
   "cell_type": "code",
   "execution_count": 6,
   "id": "b8a389ed-0add-46dd-a699-dab6b56496a6",
   "metadata": {},
   "outputs": [
    {
     "name": "stdout",
     "output_type": "stream",
     "text": [
      "False\n",
      "True\n",
      "True\n"
     ]
    }
   ],
   "source": [
    "from collections.abc import Sequence\n",
    "\n",
    "my_num = 100\n",
    "my_list = [1, 2, 3]\n",
    "my_string = \"hello\"\n",
    "\n",
    "is_num = isinstance(my_num, Sequence)\n",
    "is_list = isinstance(my_list, Sequence)\n",
    "is_string = isinstance(my_string, Sequence)\n",
    "\n",
    "print(is_num)\n",
    "print(is_list)\n",
    "print(is_string)"
   ]
  },
  {
   "cell_type": "code",
   "execution_count": 7,
   "id": "41ae43c4-17af-4f08-9d13-f490975213b2",
   "metadata": {},
   "outputs": [
    {
     "name": "stdout",
     "output_type": "stream",
     "text": [
      "1\n",
      "2\n",
      "3\n"
     ]
    }
   ],
   "source": [
    "for i in my_list:\n",
    "    print (i)"
   ]
  },
  {
   "cell_type": "code",
   "execution_count": 8,
   "id": "22eea7c5-70dd-4b06-9ab0-02a920109d97",
   "metadata": {},
   "outputs": [
    {
     "name": "stdout",
     "output_type": "stream",
     "text": [
      "h\n",
      "e\n",
      "l\n",
      "l\n",
      "o\n"
     ]
    }
   ],
   "source": [
    "for i in my_string:\n",
    "    print(i)"
   ]
  },
  {
   "cell_type": "code",
   "execution_count": 9,
   "id": "d362a586-9569-4c82-8002-f2ba4944ec85",
   "metadata": {},
   "outputs": [
    {
     "data": {
      "text/plain": [
       "[0, 1, 2]"
      ]
     },
     "execution_count": 9,
     "metadata": {},
     "output_type": "execute_result"
    }
   ],
   "source": [
    "list (range(3))"
   ]
  },
  {
   "cell_type": "markdown",
   "id": "d39e9e2d-f47c-4267-a17b-e4f1034c47d6",
   "metadata": {},
   "source": [
    "## 중첩 for문\n",
    "- 구구단 중첩 for문"
   ]
  },
  {
   "cell_type": "code",
   "execution_count": 13,
   "id": "837bbbf1-54d3-45ec-bd4f-ba1e3a379f13",
   "metadata": {},
   "outputs": [
    {
     "name": "stdout",
     "output_type": "stream",
     "text": [
      "x1 y1\n",
      "x1 y2\n",
      "y 반복문 종료\n",
      "x2 y1\n",
      "x2 y2\n",
      "y 반복문 종료\n"
     ]
    }
   ],
   "source": [
    "x_list =['x1','x2']\n",
    "y_list =['y1','y2']\n",
    "\n",
    "for x in x_list:\n",
    "    for y in y_list:\n",
    "        print (x,y)\n",
    "    print ('y 반복문 종료')"
   ]
  },
  {
   "cell_type": "markdown",
   "id": "bd83a404-3afc-4b42-81dc-221586f94008",
   "metadata": {},
   "source": [
    "## 여러개의 리스트 다루기"
   ]
  },
  {
   "cell_type": "code",
   "execution_count": 15,
   "id": "f36800c2-a799-4380-8b4a-27565e77547b",
   "metadata": {},
   "outputs": [
    {
     "name": "stdout",
     "output_type": "stream",
     "text": [
      "James 95\n",
      "Robert 96\n",
      "Lisa 97\n",
      "Mary 94\n"
     ]
    }
   ],
   "source": [
    "names = ['James','Robert','Lisa','Mary']\n",
    "scores = [95,96,97,94]\n",
    "\n",
    "#idx : index 번호\n",
    "for idx in range (len(names)):\n",
    "    print(names[idx],scores[idx])"
   ]
  },
  {
   "cell_type": "markdown",
   "id": "7fae2579-ba77-456c-b8e6-4ce1b604f7ae",
   "metadata": {},
   "source": [
    "## list comprehension"
   ]
  },
  {
   "cell_type": "code",
   "execution_count": 16,
   "id": "c07b1eb7-e2da-42c5-9632-7ac6209ac738",
   "metadata": {},
   "outputs": [
    {
     "name": "stdout",
     "output_type": "stream",
     "text": [
      "2\n",
      "4\n",
      "6\n",
      "8\n",
      "10\n",
      "[2, 4, 6, 8, 10]\n"
     ]
    }
   ],
   "source": [
    "numbers = [1,2,3,4,5]\n",
    "result = []\n",
    "\n",
    "for x in numbers:\n",
    "    # print (x * 2)\n",
    "    result.append (x*2)\n",
    "\n",
    "print (result)"
   ]
  },
  {
   "cell_type": "code",
   "execution_count": 17,
   "id": "097642bd-c347-4b7f-a796-650e6adf55e5",
   "metadata": {},
   "outputs": [
    {
     "name": "stdout",
     "output_type": "stream",
     "text": [
      "[2, 4, 6, 8, 10]\n"
     ]
    }
   ],
   "source": [
    "# 반복문을 한번에 처리하는 것\n",
    "\n",
    "numbers = [1,2,3,4,5]\n",
    "result2 = [x*2 for x in numbers]\n",
    "\n",
    "print (result2)"
   ]
  },
  {
   "cell_type": "code",
   "execution_count": 18,
   "id": "46df691e-5c14-4c65-a378-545444e1c166",
   "metadata": {},
   "outputs": [
    {
     "name": "stdout",
     "output_type": "stream",
     "text": [
      "2\n",
      "4\n",
      "6\n"
     ]
    }
   ],
   "source": [
    "numbers = [1,2,3,4,5,6]\n",
    "result = []\n",
    "for x in numbers:\n",
    "    if x % 2 == 0:\n",
    "        result.append(x)"
   ]
  },
  {
   "cell_type": "code",
   "execution_count": 29,
   "id": "ce660b30-5c59-4689-a05b-e6d99e5cf669",
   "metadata": {},
   "outputs": [
    {
     "name": "stdout",
     "output_type": "stream",
     "text": [
      "[2, 4, 6]\n"
     ]
    }
   ],
   "source": [
    "numbers = [1,2,3,4,5,6]\n",
    "result2 = [x for x in numbers if x%2 == 0]\n",
    "\n",
    "print (result2)\n",
    "\n",
    "# numbers = [1,2,3,4,5,6]\n",
    "# result2 = [x%2 == 0 for x in numbers]\n",
    "\n",
    "# print (result2)\n",
    "# 이렇게 하면 boolean이 나옴 "
   ]
  },
  {
   "cell_type": "markdown",
   "id": "a2ad0ea7-f495-461d-923f-4031922870fe",
   "metadata": {},
   "source": [
    "## while 반복문\n",
    "- 조건문이 참일 때만 반복해서 실행\n",
    "- 데이터 분석: 데이터 셋이 정해져 있음\n",
    "  + 행, 열 고정 => 범위가 주어진 상태임 so 쓸 일이 많지 않음"
   ]
  },
  {
   "cell_type": "code",
   "execution_count": 30,
   "id": "23c24311-94ce-4824-9624-109dad6001fd",
   "metadata": {},
   "outputs": [
    {
     "name": "stdout",
     "output_type": "stream",
     "text": [
      "1 1\n",
      "2 3\n",
      "3 6\n",
      "4 10\n",
      "5 15\n",
      "6 21\n"
     ]
    }
   ],
   "source": [
    "i=0\n",
    "total=0\n",
    "\n",
    "while (total < 20):\n",
    "    i = i + 1                   #==> i=0,==> i=1\n",
    "    total = total + i           #==> total = 0+1 ==> 1\n",
    "    print (i, total)"
   ]
  },
  {
   "cell_type": "code",
   "execution_count": 31,
   "id": "3c888d21-8723-4b1d-a962-2fb66c796ffa",
   "metadata": {},
   "outputs": [
    {
     "name": "stdout",
     "output_type": "stream",
     "text": [
      "안녕하세요\n",
      "안녕하세요\n",
      "안녕하세요\n",
      "안녕하세요\n",
      "4\n"
     ]
    }
   ],
   "source": [
    "k=0\n",
    "\n",
    "while True:\n",
    "    k = k+1   # k는 1씩 증가\n",
    "    print('안녕하세요')\n",
    "    if (k > 3):\n",
    "        print(k)\n",
    "        break   # while / for-loop 문에 강제적으 종료시킬 때 "
   ]
  },
  {
   "cell_type": "markdown",
   "id": "d620b309-4b50-49ec-98ac-2f72128800d8",
   "metadata": {},
   "source": [
    "# 사용자 정의 함수"
   ]
  },
  {
   "cell_type": "code",
   "execution_count": 32,
   "id": "5c446a1b-44d6-4991-9e11-05c5186c6ccf",
   "metadata": {},
   "outputs": [],
   "source": [
    "def my_1st_func():\n",
    "    print ('안녕하세요')\n",
    "    print ('반갑습니다')"
   ]
  },
  {
   "cell_type": "code",
   "execution_count": 36,
   "id": "2743499e-7e18-47d0-b2ac-4ea1b9bbc96f",
   "metadata": {},
   "outputs": [
    {
     "name": "stdout",
     "output_type": "stream",
     "text": [
      "안녕하세요\n",
      "반갑습니다\n"
     ]
    }
   ],
   "source": [
    "my_1st_func()"
   ]
  },
  {
   "cell_type": "code",
   "execution_count": 94,
   "id": "dbb343c1-e704-4fa3-91c0-b5a98927d99d",
   "metadata": {},
   "outputs": [],
   "source": [
    "def my_friend(name):\n",
    "    print(f\"{name}는 나의 친구입니다.\")\n",
    "    print(\"{}는 나의 친구입니다.\".format(name))"
   ]
  },
  {
   "cell_type": "code",
   "execution_count": null,
   "id": "5037e191-8d31-4c17-a36c-a5a92ffce94c",
   "metadata": {},
   "outputs": [],
   "source": []
  },
  {
   "cell_type": "code",
   "execution_count": 93,
   "id": "44ae33fe-045f-4c3b-9054-f4b3655cbb57",
   "metadata": {},
   "outputs": [
    {
     "name": "stdout",
     "output_type": "stream",
     "text": [
      "안녕하세요\n",
      "반갑습니다\n",
      "안녕하세요\n",
      "반갑습니다\n",
      "안녕하세요\n",
      "반갑습니다\n",
      "안녕하세요\n",
      "반갑습니다\n",
      "안녕하세요\n",
      "반갑습니다\n",
      "안녕하세요\n",
      "반갑습니다\n"
     ]
    }
   ],
   "source": [
    "numbers = [1,2,3,4,5,6]\n",
    "result = []\n",
    "for x in numbers:\n",
    "    my_1st_func()"
   ]
  },
  {
   "cell_type": "markdown",
   "id": "3d5d17c6-f68a-4513-80a3-4dd9e3063d81",
   "metadata": {},
   "source": [
    "## 문제"
   ]
  },
  {
   "cell_type": "code",
   "execution_count": 40,
   "id": "6d669f0f-1a64-4336-bce7-2f26ec85698e",
   "metadata": {},
   "outputs": [
    {
     "name": "stdout",
     "output_type": "stream",
     "text": [
      "<class 'float'>\n"
     ]
    }
   ],
   "source": [
    "#1\n",
    "a=10\n",
    "b=5.5\n",
    "print (type(a+b))"
   ]
  },
  {
   "cell_type": "code",
   "execution_count": 42,
   "id": "824102b2-fa17-4b36-b84b-e9333fe78cfe",
   "metadata": {},
   "outputs": [
    {
     "name": "stdout",
     "output_type": "stream",
     "text": [
      "150\n"
     ]
    }
   ],
   "source": [
    "#2\n",
    "a = '100'\n",
    "b = 50\n",
    "# type error\n",
    "print (int(a)+b)"
   ]
  },
  {
   "cell_type": "code",
   "execution_count": 2,
   "id": "e95aa957-13ee-4e84-816a-f5477e2dc36f",
   "metadata": {},
   "outputs": [
    {
     "name": "stdout",
     "output_type": "stream",
     "text": [
      "[1, 2, 3, 4, 5, 6]\n"
     ]
    }
   ],
   "source": [
    "# #3\n",
    "a = [1,2,3]\n",
    "b = (4,5,6)\n",
    "# print (a+b)\n",
    "# # 출력 불가~\n",
    "\n",
    "#list 로 변환\n",
    "result = a + list(b)\n",
    "print(result)"
   ]
  },
  {
   "cell_type": "code",
   "execution_count": 3,
   "id": "faf437ae-452f-4c80-aedf-17b876f75111",
   "metadata": {},
   "outputs": [
    {
     "name": "stdout",
     "output_type": "stream",
     "text": [
      "<class 'NoneType'>\n"
     ]
    }
   ],
   "source": [
    "#4\n",
    "x = None\n",
    "print(type(x))"
   ]
  },
  {
   "cell_type": "code",
   "execution_count": 45,
   "id": "898f1aaa-deea-4f96-94c9-23bd500a09b1",
   "metadata": {},
   "outputs": [
    {
     "name": "stdout",
     "output_type": "stream",
     "text": [
      "3.0\n"
     ]
    }
   ],
   "source": [
    "#5\n",
    "a = 3\n",
    "print (float(a))"
   ]
  },
  {
   "cell_type": "code",
   "execution_count": 6,
   "id": "1a2edbec-056a-4eda-8bcf-9b493a838247",
   "metadata": {},
   "outputs": [
    {
     "name": "stdout",
     "output_type": "stream",
     "text": [
      "Hello <class 'str'>\n",
      "Hello <class 'str'>\n",
      "Hello <class 'str'>\n",
      "HelloHelloHello\n",
      "<class 'str'>\n"
     ]
    }
   ],
   "source": [
    "#6\n",
    "s = \"Hello\"\n",
    "for i in range(3):\n",
    "    print (s,type(s))\n",
    "\n",
    "s = \"Hello\"\n",
    "result = s * 3\n",
    "print(result)\n",
    "print(type(result))"
   ]
  },
  {
   "cell_type": "code",
   "execution_count": 49,
   "id": "c146f524-6fa1-4289-a3ec-531c431507b2",
   "metadata": {},
   "outputs": [
    {
     "name": "stdout",
     "output_type": "stream",
     "text": [
      "73\n"
     ]
    }
   ],
   "source": [
    "#7\n",
    "x = 7\n",
    "print(str(x)+'3')"
   ]
  },
  {
   "cell_type": "code",
   "execution_count": 50,
   "id": "c7fd50bf-e8e0-453b-a36e-3a94b7f9821e",
   "metadata": {},
   "outputs": [
    {
     "name": "stdout",
     "output_type": "stream",
     "text": [
      "1 <class 'int'>\n"
     ]
    }
   ],
   "source": [
    "#8\n",
    "a = True\n",
    "b = False\n",
    "\n",
    "print (a+b, type (a+b))"
   ]
  },
  {
   "cell_type": "code",
   "execution_count": 51,
   "id": "7f8e5e60-3e75-4a6e-83d1-f55e87368715",
   "metadata": {},
   "outputs": [
    {
     "name": "stdout",
     "output_type": "stream",
     "text": [
      "50.0 <class 'float'>\n"
     ]
    }
   ],
   "source": [
    "#9\n",
    "a = 25\n",
    "b = a // 0.5\n",
    "print (b, type(b))\n"
   ]
  },
  {
   "cell_type": "code",
   "execution_count": 52,
   "id": "f515816f-8f14-4330-b5cf-b0e074da46db",
   "metadata": {},
   "outputs": [
    {
     "name": "stdout",
     "output_type": "stream",
     "text": [
      "12355\n"
     ]
    }
   ],
   "source": [
    "#10\n",
    "text = '12345' \n",
    "print (int(text) + 10)"
   ]
  },
  {
   "cell_type": "code",
   "execution_count": 54,
   "id": "a0ecf51e-8a43-477c-9c3f-71590daa2404",
   "metadata": {},
   "outputs": [
    {
     "data": {
      "text/plain": [
       "50"
      ]
     },
     "execution_count": 54,
     "metadata": {},
     "output_type": "execute_result"
    }
   ],
   "source": [
    "#11\n",
    "a = [10,20,30,40,50]\n",
    "a[-1]\n",
    "# 가장 큰 값을 찾는게 따로 있으려나?"
   ]
  },
  {
   "cell_type": "code",
   "execution_count": 56,
   "id": "248e8417-44f8-45d1-ac0f-63b17f8c6f55",
   "metadata": {},
   "outputs": [
    {
     "name": "stdout",
     "output_type": "stream",
     "text": [
      "2\n",
      "3\n",
      "4\n",
      "5\n",
      "6\n"
     ]
    }
   ],
   "source": [
    "#12  again\n",
    "a = [1,2,3,4,5]\n",
    "for i in a:\n",
    "    "
   ]
  },
  {
   "cell_type": "code",
   "execution_count": 57,
   "id": "857f894a-769c-46db-94d7-b981be732cd6",
   "metadata": {},
   "outputs": [
    {
     "data": {
      "text/plain": [
       "10"
      ]
     },
     "execution_count": 57,
     "metadata": {},
     "output_type": "execute_result"
    }
   ],
   "source": [
    "#13\n",
    "a = (5,10,15,20)\n",
    "a[1]"
   ]
  },
  {
   "cell_type": "code",
   "execution_count": 7,
   "id": "29bdce53-af91-47e0-a497-f4332c538b9b",
   "metadata": {},
   "outputs": [
    {
     "name": "stdout",
     "output_type": "stream",
     "text": [
      "(1, 2, 3, 4, 5, 6)\n"
     ]
    }
   ],
   "source": [
    "#14  again\n",
    "\n",
    "a = (1,2,3)\n",
    "b = (4,5,6)\n",
    "\n",
    "print (a+b)"
   ]
  },
  {
   "cell_type": "code",
   "execution_count": 8,
   "id": "f3dc920b-cdc5-4da6-a38f-4ad2874a5a59",
   "metadata": {},
   "outputs": [
    {
     "name": "stdout",
     "output_type": "stream",
     "text": [
      "{'a': 1, 'b': 10, 'c': 3}\n"
     ]
    }
   ],
   "source": [
    "#15 again\n",
    "dict = {'a':1,\n",
    "        'b':2,\n",
    "        'c':3}\n",
    "dict['b']=10\n",
    "print (dict)"
   ]
  },
  {
   "cell_type": "code",
   "execution_count": 9,
   "id": "928515a1-ef2b-4b70-af15-f97fa9c53936",
   "metadata": {},
   "outputs": [
    {
     "data": {
      "text/plain": [
       "dict_keys(['name', 'age', 'city'])"
      ]
     },
     "execution_count": 9,
     "metadata": {},
     "output_type": "execute_result"
    }
   ],
   "source": [
    "#16\n",
    "dict = {'name':'Alice',\n",
    "        'age':25,\n",
    "        'city':'New York'}\n",
    "\n",
    "dict.keys()"
   ]
  },
  {
   "cell_type": "code",
   "execution_count": 78,
   "id": "bc5e3c25-c193-4d80-be37-7719ddfbc4a0",
   "metadata": {},
   "outputs": [
    {
     "name": "stdout",
     "output_type": "stream",
     "text": [
      "1\n",
      "2\n",
      "3\n",
      "4\n",
      "5\n"
     ]
    }
   ],
   "source": [
    "#17\n",
    "i=0\n",
    "while (i<5):\n",
    "    i=i+1\n",
    "    print (i)"
   ]
  },
  {
   "cell_type": "code",
   "execution_count": 84,
   "id": "a005f05f-732d-42fe-a675-fbd59bb4956a",
   "metadata": {},
   "outputs": [
    {
     "name": "stdout",
     "output_type": "stream",
     "text": [
      "10\n",
      "9\n",
      "8\n",
      "7\n",
      "6\n",
      "5\n",
      "4\n",
      "3\n",
      "2\n",
      "1\n"
     ]
    }
   ],
   "source": [
    "#18\n",
    "i=11\n",
    "while (i>1):\n",
    "    i=i-1\n",
    "    print(i)"
   ]
  },
  {
   "cell_type": "code",
   "execution_count": 86,
   "id": "92800c41-a0cc-47a6-9382-d66c0e3441c3",
   "metadata": {},
   "outputs": [
    {
     "name": "stdout",
     "output_type": "stream",
     "text": [
      "4\n",
      "8\n",
      "12\n",
      "16\n",
      "20\n"
     ]
    }
   ],
   "source": [
    "#19\n",
    "a = [2,4,6,8,10]\n",
    "\n",
    "for i in a:\n",
    "    print(i*2)"
   ]
  },
  {
   "cell_type": "code",
   "execution_count": 10,
   "id": "5867c736-e311-4003-9974-a0afab2234b2",
   "metadata": {},
   "outputs": [
    {
     "name": "stdout",
     "output_type": "stream",
     "text": [
      "P\n",
      "y\n",
      "t\n",
      "h\n",
      "o\n",
      "n\n"
     ]
    }
   ],
   "source": [
    "#20\n",
    "a = \"Python\"\n",
    "for i in a:\n",
    "    print(i)"
   ]
  },
  {
   "cell_type": "code",
   "execution_count": null,
   "id": "7c373763-24d1-4201-b264-440b09f0447f",
   "metadata": {},
   "outputs": [],
   "source": []
  }
 ],
 "metadata": {
  "kernelspec": {
   "display_name": "Python 3 (ipykernel)",
   "language": "python",
   "name": "python3"
  },
  "language_info": {
   "codemirror_mode": {
    "name": "ipython",
    "version": 3
   },
   "file_extension": ".py",
   "mimetype": "text/x-python",
   "name": "python",
   "nbconvert_exporter": "python",
   "pygments_lexer": "ipython3",
   "version": "3.12.6"
  }
 },
 "nbformat": 4,
 "nbformat_minor": 5
}
