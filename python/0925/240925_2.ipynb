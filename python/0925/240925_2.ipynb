{
 "cells": [
  {
   "cell_type": "markdown",
   "id": "ee23bb28-4652-478f-b66c-643de45db437",
   "metadata": {},
   "source": [
    "# 사용자 정의 함수"
   ]
  },
  {
   "cell_type": "code",
   "execution_count": 2,
   "id": "ad32c4e8-9a83-40b3-bdab-5f2dba76fa57",
   "metadata": {},
   "outputs": [],
   "source": [
    "# 인자 (인수)는 있으나 반환 값이 없는 함수  \n",
    "def my_friend(name):\n",
    "    print(f\"{name}는 나의 친구입니다.\")\n",
    "    print(\"{}는 나의 친구입니다.\".format(name))"
   ]
  },
  {
   "cell_type": "code",
   "execution_count": 4,
   "id": "47d28dfd-111d-4db6-9a66-7ae259c25aee",
   "metadata": {},
   "outputs": [
    {
     "name": "stdout",
     "output_type": "stream",
     "text": [
      "영희는 나의 친구입니다.\n",
      "영희는 나의 친구입니다.\n"
     ]
    }
   ],
   "source": [
    "my_friend(\"영희\")"
   ]
  },
  {
   "cell_type": "code",
   "execution_count": 5,
   "id": "b379ad97-d1c3-485e-990d-8be331f82bde",
   "metadata": {},
   "outputs": [],
   "source": [
    "# 인자 (인수)도 있고 반환 값도 있는 함수"
   ]
  },
  {
   "cell_type": "code",
   "execution_count": 6,
   "id": "f76114d0-d7d6-457b-9472-f492033f3ef0",
   "metadata": {},
   "outputs": [],
   "source": [
    "def my_calc(x,y):\n",
    "    z = x*y\n",
    "    return z "
   ]
  },
  {
   "cell_type": "code",
   "execution_count": 7,
   "id": "be567155-8cae-444e-b83e-a3df6cc0df58",
   "metadata": {},
   "outputs": [
    {
     "data": {
      "text/plain": [
       "15"
      ]
     },
     "execution_count": 7,
     "metadata": {},
     "output_type": "execute_result"
    }
   ],
   "source": [
    "my_calc(3,5)"
   ]
  },
  {
   "cell_type": "markdown",
   "id": "ead4b4d7-dfb7-4c0c-b9e1-3793d79cb910",
   "metadata": {},
   "source": [
    "## 변수의 유효 범위\n",
    "- 전역 변수, 지역 변수"
   ]
  },
  {
   "cell_type": "code",
   "execution_count": 11,
   "id": "63cc45b0-e520-4d45-8de6-9337495b2d7c",
   "metadata": {},
   "outputs": [],
   "source": [
    "a = 5           # 전역 변수\n",
    "\n",
    "def func1():\n",
    "    a = 1       # 지역 변수\n",
    "    print(\"[func1] 지역 변수 a =\",a)\n",
    "\n",
    "def func2():\n",
    "    a = 2       # 지역 변수\n",
    "    print(\"[func2] 지역 변수 a =\",a)\n",
    "\n",
    "def func3():\n",
    "    print(\"[func3] 지역 변수 a =\",a)\n",
    "\n",
    "def func4():\n",
    "    global a # 함수 내에 전역 변수를 변경하기 위해 사용 // \n",
    "    a = 4\n",
    "    print(\"[func4] 전역 변수 a =\",a)"
   ]
  },
  {
   "cell_type": "code",
   "execution_count": 10,
   "id": "2cc12fb4-a2cd-456f-9d95-a5807e99b12e",
   "metadata": {},
   "outputs": [
    {
     "name": "stdout",
     "output_type": "stream",
     "text": [
      "[func1] 지역 변수 a = 1\n",
      "[func2] 지역 변수 a = 2\n",
      "[func3] 지역 변수 a = 5\n"
     ]
    }
   ],
   "source": [
    "func1()\n",
    "func2()\n",
    "func3()"
   ]
  },
  {
   "cell_type": "code",
   "execution_count": 12,
   "id": "029dca40-d0f0-4880-a3bb-cfe8d54cbb88",
   "metadata": {},
   "outputs": [
    {
     "name": "stdout",
     "output_type": "stream",
     "text": [
      "[func1] 지역 변수 a = 1\n",
      "[func2] 지역 변수 a = 2\n",
      "전역 변수 a= 5\n",
      "[func4] 전역 변수 a = 4\n"
     ]
    }
   ],
   "source": [
    "func1()\n",
    "func2()\n",
    "print(\"전역 변수 a=\",a) "
   ]
  },
  {
   "cell_type": "code",
   "execution_count": 13,
   "id": "e9e63848-64bf-4fc5-8e49-a4a85d0c3e3a",
   "metadata": {},
   "outputs": [
    {
     "name": "stdout",
     "output_type": "stream",
     "text": [
      "[func3] 지역 변수 a = 4\n",
      "[func4] 전역 변수 a = 4\n",
      "[func3] 지역 변수 a = 4\n"
     ]
    }
   ],
   "source": [
    "func3()\n",
    "func4()"
   ]
  },
  {
   "cell_type": "code",
   "execution_count": 15,
   "id": "f8900548-d3bb-4b00-8b32-1363310081e9",
   "metadata": {},
   "outputs": [
    {
     "ename": "UnboundLocalError",
     "evalue": "cannot access local variable 'c' where it is not associated with a value",
     "output_type": "error",
     "traceback": [
      "\u001b[0;31m---------------------------------------------------------------------------\u001b[0m",
      "\u001b[0;31mUnboundLocalError\u001b[0m                         Traceback (most recent call last)",
      "Cell \u001b[0;32mIn[15], line 7\u001b[0m\n\u001b[1;32m      4\u001b[0m     c \u001b[38;5;241m=\u001b[39m c\u001b[38;5;241m+\u001b[39m\u001b[38;5;241m2\u001b[39m\n\u001b[1;32m      5\u001b[0m     \u001b[38;5;28mprint\u001b[39m (c)\n\u001b[0;32m----> 7\u001b[0m \u001b[43madd\u001b[49m\u001b[43m \u001b[49m\u001b[43m(\u001b[49m\u001b[43m)\u001b[49m\n",
      "Cell \u001b[0;32mIn[15], line 4\u001b[0m, in \u001b[0;36madd\u001b[0;34m()\u001b[0m\n\u001b[1;32m      3\u001b[0m \u001b[38;5;28;01mdef\u001b[39;00m \u001b[38;5;21madd\u001b[39m():\n\u001b[0;32m----> 4\u001b[0m     c \u001b[38;5;241m=\u001b[39m \u001b[43mc\u001b[49m\u001b[38;5;241m+\u001b[39m\u001b[38;5;241m2\u001b[39m\n\u001b[1;32m      5\u001b[0m     \u001b[38;5;28mprint\u001b[39m (c)\n",
      "\u001b[0;31mUnboundLocalError\u001b[0m: cannot access local variable 'c' where it is not associated with a value"
     ]
    }
   ],
   "source": [
    "c = 1 \n",
    "\n",
    "def add():\n",
    "    global c \n",
    "    c = c+2\n",
    "    print (c)\n",
    "\n",
    "add ()"
   ]
  },
  {
   "cell_type": "markdown",
   "id": "6e840ecb-bac5-482f-9fca-e29c1da58205",
   "metadata": {},
   "source": [
    "## 가변인수 예제\n",
    "- 학생의 점수를 입력받아 평균 점수 계산하는 함수\n",
    "  + 문제점: 각 학생들마다 시험 본 과목 수가 다 다름\n",
    "    - A : 3과목\n",
    "    - B : 2과목\n",
    "    - C : 5과목"
   ]
  },
  {
   "cell_type": "code",
   "execution_count": 16,
   "id": "875a036c-69aa-4471-93c8-f38d2491b216",
   "metadata": {},
   "outputs": [],
   "source": [
    "def calculate_average(name, *scores): # 값을 저장할 때 튜플로 처리 \n",
    "    if scores:  # 가변 인수가 비어있지 않은지 확인\n",
    "        average_score = sum(scores) / len(scores)\n",
    "        print(f\"{name}의 평균 점수는 {average_score:.2f}점입니다.\")\n",
    "    else:\n",
    "        print(f\"{name}의 점수를 입력하지 않았습니다.\")"
   ]
  },
  {
   "cell_type": "code",
   "execution_count": 17,
   "id": "0ed40fa1-35e2-49de-9c79-51dc82fa8d01",
   "metadata": {},
   "outputs": [
    {
     "name": "stdout",
     "output_type": "stream",
     "text": [
      "Carla의 평균 점수는 87.00점입니다.\n"
     ]
    }
   ],
   "source": [
    "calculate_average(\"Carla\",85,89)"
   ]
  },
  {
   "cell_type": "code",
   "execution_count": 18,
   "id": "f1c1ffca-d6ce-41fc-b0d0-65f70d3c718b",
   "metadata": {},
   "outputs": [
    {
     "name": "stdout",
     "output_type": "stream",
     "text": [
      "John의 평균 점수는 76.00점입니다.\n"
     ]
    }
   ],
   "source": [
    "calculate_average(\"John\",85,89,90,40)"
   ]
  },
  {
   "cell_type": "code",
   "execution_count": null,
   "id": "cdd6ce58-50ee-4d16-92b5-a0b64c3e620e",
   "metadata": {},
   "outputs": [],
   "source": [
    "def calculate_average(name, scores):\n",
    "    if len(scores) > 0:  # 가변 인수가 비어있지 않은지 확인\n",
    "        average_score = sum(scores) / len(scores)\n",
    "        print(f\"{name}의 평균 점수는 {average_score:.2f}점입니다.\")\n",
    "    else:\n",
    "        print(f\"{name}의 점수를 입력하지 않았습니다.\")"
   ]
  },
  {
   "cell_type": "markdown",
   "id": "d4f4107c-1baa-466d-8063-ba0a1ac164b9",
   "metadata": {},
   "source": [
    "## 키워드 인수 확인 예제\n",
    "- 학생의 이름, 과목별 점수, 그리고 학년을 받아 학생의 성적을 출력하는 함수\n",
    "  + 고정 인수: 학생 이름\n",
    "  + 가변 인수: 여러 개의 과목 점수\n",
    "  + 키워드 인수: 학년 정보"
   ]
  },
  {
   "cell_type": "code",
   "execution_count": 19,
   "id": "170f1795-7878-4cef-83b1-549680353f1c",
   "metadata": {},
   "outputs": [
    {
     "name": "stdout",
     "output_type": "stream",
     "text": [
      "학생 이름: Alice\n",
      "평균 점수: 88.33\n",
      "grade: 2학년\n",
      "school: Seoul High School\n",
      "\n",
      "\n",
      "학생 이름: Bob\n",
      "평균 점수: 80.75\n",
      "grade: 3학년\n",
      "school: Busan High School\n",
      "hobby: 축구\n",
      "\n",
      "\n",
      "학생 이름: Charlie\n",
      "점수를 입력하지 않았습니다.\n",
      "grade: 1학년\n"
     ]
    }
   ],
   "source": [
    "# def student_report(name,*args,**kwargs)\n",
    "# args는 Tuple\n",
    "# kwargs는 dictionary \n",
    "\n",
    "def student_report(name, *scores, **details):\n",
    "    print(f\"학생 이름: {name}\")\n",
    "\n",
    "    # 점수가 입력된 경우에만 평균을 계산\n",
    "    if scores:\n",
    "        average_score = sum(scores) / len(scores)\n",
    "        print(f\"평균 점수: {average_score:.2f}\")\n",
    "    else:\n",
    "        print(\"점수를 입력하지 않았습니다.\")\n",
    "\n",
    "    # 키워드 인수로 전달된 추가 정보를 출력\n",
    "    for key, value in details.items():\n",
    "        print(f\"{key}: {value}\")\n",
    "\n",
    "# 함수 호출 예제\n",
    "student_report(\"Alice\", 88, 92, 85, grade=\"2학년\", school=\"Seoul High School\")\n",
    "print(\"\\n\")\n",
    "student_report(\"Bob\", 75, 80, 78, 90, grade=\"3학년\", school=\"Busan High School\", hobby=\"축구\")\n",
    "print(\"\\n\")\n",
    "student_report(\"Charlie\", grade=\"1학년\")"
   ]
  },
  {
   "cell_type": "markdown",
   "id": "62f36451-f89b-4ba8-8a53-17e9741dbb42",
   "metadata": {},
   "source": [
    "# lambda 함수 "
   ]
  },
  {
   "cell_type": "code",
   "execution_count": 20,
   "id": "ba3fdd75-83fb-4170-a721-d16d682e64e6",
   "metadata": {},
   "outputs": [
    {
     "data": {
      "text/plain": [
       "9"
      ]
     },
     "execution_count": 20,
     "metadata": {},
     "output_type": "execute_result"
    }
   ],
   "source": [
    "(lambda x : x**2)(3)"
   ]
  },
  {
   "cell_type": "code",
   "execution_count": 21,
   "id": "b2c52bb7-2fde-40db-a5ec-442042a8dc39",
   "metadata": {},
   "outputs": [
    {
     "data": {
      "text/plain": [
       "9"
      ]
     },
     "execution_count": 21,
     "metadata": {},
     "output_type": "execute_result"
    }
   ],
   "source": [
    "mySquare = lambda x : x**2  # 사용자 정의 함수와 비슷한 느낌~\n",
    "mySquare(3)"
   ]
  },
  {
   "cell_type": "code",
   "execution_count": 22,
   "id": "ca88ecbe-a189-4f7f-8ac4-235b1f9b7169",
   "metadata": {},
   "outputs": [
    {
     "data": {
      "text/plain": [
       "10"
      ]
     },
     "execution_count": 22,
     "metadata": {},
     "output_type": "execute_result"
    }
   ],
   "source": [
    "sampleFunc = lambda x,y,z : x**2 + 3 * y + z  # 사용자 정의 함수와 비슷한 느낌~\n",
    "sampleFunc(1,2,3)"
   ]
  },
  {
   "cell_type": "markdown",
   "id": "7bdcf244-0273-4091-aaa1-b67346a78d44",
   "metadata": {},
   "source": [
    "# Context Manager, Decorator\n",
    "- 클로저 closure\n",
    "  + 함수 안에 또 다른 함수 생성\n",
    "- 성능 측정 시에 활용 가능"
   ]
  },
  {
   "cell_type": "code",
   "execution_count": null,
   "id": "9f9211e3-84d7-406a-87c5-e44a661830a2",
   "metadata": {},
   "outputs": [],
   "source": [
    "import time\n",
    "\n",
    "# 코드가 돌아가는 시간을 체크하는 함수 \n",
    "def time_decorator(func):\n",
    "    def wrapper(*args, **kwargs):\n",
    "        start_time = time.time()\n",
    "        result = func(*args, **kwargs)\n",
    "        end_time = time.time()\n",
    "        print(f\"Function '{func.__name__}' executed in {end_time - start_time:.4f} seconds\")\n",
    "        return result\n",
    "    return wrapper\n",
    "\n",
    "@time_decorator\n",
    "def slow_function():\n",
    "    time.sleep(2)\n",
    "    return \"Finished\"\n",
    "\n",
    "# 사용 예시\n",
    "slow_function()"
   ]
  },
  {
   "cell_type": "markdown",
   "id": "c73fb541-4bfb-443d-bdc6-9ece9f12007d",
   "metadata": {},
   "source": [
    "# class 왕기초!\n",
    "- 자동화를 위해 만드는 것"
   ]
  },
  {
   "cell_type": "code",
   "execution_count": 43,
   "id": "0157c435-a94d-4fce-af72-f3a2ee2cf603",
   "metadata": {},
   "outputs": [],
   "source": [
    "class book:\n",
    "    title = None  \n",
    "    author = None\n",
    "    pages = 0\n",
    "    price = 0\n",
    "    discount = 0\n",
    "\n",
    "    def 읽는시간(self, reading_speed = 30):\n",
    "        return round(self.pages / reading_speed,1)   # class 내부에서 할때는 self.\n"
   ]
  },
  {
   "cell_type": "code",
   "execution_count": 44,
   "id": "bca22b92-ee67-4d0d-83a5-c4a42989b8df",
   "metadata": {},
   "outputs": [
    {
     "name": "stdout",
     "output_type": "stream",
     "text": [
      "Streamlit Evan\n",
      "112.0\n"
     ]
    }
   ],
   "source": [
    "# 인스턴스를 생성\n",
    "book01 = book()\n",
    "\n",
    "book01.title = 'Streamlit'\n",
    "book01.author = 'Evan'\n",
    "book01.pages = 560\n",
    "book01.price = 40000\n",
    "book01.discount= 10\n",
    "\n",
    "print(book01.title, book01.author)\n",
    "출력값 = book01.읽는시간(reading_speed = 5)\n",
    "print(출력값)"
   ]
  },
  {
   "cell_type": "markdown",
   "id": "4ba9188b-4158-4838-9efd-acc02669446c",
   "metadata": {},
   "source": [
    "## 코드 업데이트"
   ]
  },
  {
   "cell_type": "code",
   "execution_count": 67,
   "id": "29164105-c917-46ec-9860-0a14cba3e76a",
   "metadata": {},
   "outputs": [],
   "source": [
    "class book():\n",
    "    #initialize: 초기화\n",
    "    #필수적으로 넣어야 하는 값이 적을수록 좋은 class임 \n",
    "    # 당신은 하나만 입력해 나머지는 내가 다 설정해둘게 \n",
    "    # 가장 '주'가 되는 특징으로 해두고 나머지는 none 으로 우선은 세팅을 하면 되는건가..? (pk 같은..?)\n",
    "    def __init__(self,title,author,pages,price,discount_rate=0): #author = None, pages = None, price = None, discount_rate = None \n",
    "        self.title = title\n",
    "        self.author = author\n",
    "        self.pages = pages\n",
    "        self.price = price\n",
    "        self.discount_rate = discount_rate\n",
    "\n",
    "    def reading_time(self, reading_speed = 30):\n",
    "        return round(self.pages / reading_speed,1)\n",
    "\n",
    "    def apply_discount(self):\n",
    "        return self.price * (1 - self.discount_rate)"
   ]
  },
  {
   "cell_type": "code",
   "execution_count": 68,
   "id": "e0d781fc-d0e6-4175-95d8-a73786715da5",
   "metadata": {},
   "outputs": [
    {
     "data": {
      "text/plain": [
       "('sample', 'sample4', 0.3)"
      ]
     },
     "execution_count": 68,
     "metadata": {},
     "output_type": "execute_result"
    }
   ],
   "source": [
    "book01 = book('sample','Evan',300,200000,0.1)\n",
    "book02 = book('sample2','Eva',400,500000,0.2)\n",
    "book03 = book('sample3','Elsa',500,600000,0.3)\n",
    "book02 = book('sample4','Elmo',500,300000,0.5)\n",
    "book01.title,book02.title,book03.discount_rate\n"
   ]
  },
  {
   "cell_type": "code",
   "execution_count": 69,
   "id": "ff0e32d6-6bd1-40dc-8a4f-e5701d5aa24f",
   "metadata": {},
   "outputs": [
    {
     "data": {
      "text/plain": [
       "150000.0"
      ]
     },
     "execution_count": 69,
     "metadata": {},
     "output_type": "execute_result"
    }
   ],
   "source": [
    "book02.apply_discount()"
   ]
  },
  {
   "cell_type": "code",
   "execution_count": 28,
   "id": "696c56f2-bb98-47b0-84d6-0156569c6efd",
   "metadata": {},
   "outputs": [
    {
     "name": "stdout",
     "output_type": "stream",
     "text": [
      "python\n"
     ]
    }
   ],
   "source": [
    "\n",
    "book02 = book()\n",
    "book02.TITLE = 'python'\n",
    "\n",
    "print (book02.TITLE) # 대문자임에도 됨 // 좋지 않은 "
   ]
  },
  {
   "cell_type": "code",
   "execution_count": null,
   "id": "0802eec6-5bd3-4c67-900f-595baccbb76a",
   "metadata": {},
   "outputs": [],
   "source": []
  },
  {
   "cell_type": "markdown",
   "id": "f11e8c58-74dd-4318-9959-c8855b24d2d8",
   "metadata": {},
   "source": [
    "- 서로 다른 위치에 저장됨"
   ]
  },
  {
   "cell_type": "code",
   "execution_count": null,
   "id": "5c816e47-4001-4236-9a3b-feb407746a68",
   "metadata": {},
   "outputs": [],
   "source": []
  }
 ],
 "metadata": {
  "kernelspec": {
   "display_name": "Python 3 (ipykernel)",
   "language": "python",
   "name": "python3"
  },
  "language_info": {
   "codemirror_mode": {
    "name": "ipython",
    "version": 3
   },
   "file_extension": ".py",
   "mimetype": "text/x-python",
   "name": "python",
   "nbconvert_exporter": "python",
   "pygments_lexer": "ipython3",
   "version": "3.12.6"
  }
 },
 "nbformat": 4,
 "nbformat_minor": 5
}
