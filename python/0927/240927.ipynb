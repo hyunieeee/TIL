{
 "cells": [
  {
   "cell_type": "markdown",
   "id": "a8371254-5c48-4d15-b31b-70636dabff28",
   "metadata": {},
   "source": [
    "# Numpy"
   ]
  },
  {
   "cell_type": "markdown",
   "id": "d93e9b37-ccd3-4919-b3c8-52610919ea1a",
   "metadata": {},
   "source": [
    "## 라이브러리 설치\n"
   ]
  },
  {
   "cell_type": "code",
   "execution_count": 1,
   "id": "ebf420cf-917f-4669-bc2a-a9ddd8549286",
   "metadata": {},
   "outputs": [
    {
     "name": "stdout",
     "output_type": "stream",
     "text": [
      "Requirement already satisfied: numpy in ./venv/lib/python3.12/site-packages (2.1.1)\n"
     ]
    }
   ],
   "source": [
    "!pip install numpy"
   ]
  },
  {
   "cell_type": "markdown",
   "id": "ba6bbdd1-4eb3-4d60-9c6a-cbe06d43ce9d",
   "metadata": {},
   "source": [
    "- 설치 후 경로 확인하는 것 중요"
   ]
  },
  {
   "cell_type": "code",
   "execution_count": 94,
   "id": "7f254a5a-6576-4128-a658-82bf5b47d35c",
   "metadata": {},
   "outputs": [
    {
     "name": "stdout",
     "output_type": "stream",
     "text": [
      "2.1.1\n"
     ]
    }
   ],
   "source": [
    "import numpy as np\n",
    "print (np.__version__)"
   ]
  },
  {
   "cell_type": "code",
   "execution_count": 4,
   "id": "260c4e4f-a344-4b3d-baa1-a29e25c41323",
   "metadata": {},
   "outputs": [],
   "source": [
    "# np 와 관련한 사용설명서 \n",
    "# help(np)"
   ]
  },
  {
   "cell_type": "code",
   "execution_count": 28,
   "id": "b04fc400-ab2d-4a2a-9d0f-7022e267bcfe",
   "metadata": {},
   "outputs": [
    {
     "ename": "IndentationError",
     "evalue": "unexpected indent (3206092298.py, line 2)",
     "output_type": "error",
     "traceback": [
      "\u001b[0;36m  Cell \u001b[0;32mIn[28], line 2\u001b[0;36m\u001b[0m\n\u001b[0;31m    [4,5,6],\u001b[0m\n\u001b[0m    ^\u001b[0m\n\u001b[0;31mIndentationError\u001b[0m\u001b[0;31m:\u001b[0m unexpected indent\n"
     ]
    }
   ],
   "source": [
    "num1 = [1,2,3]\n",
    "num2 = [4,5,6]"
   ]
  },
  {
   "cell_type": "code",
   "execution_count": 7,
   "id": "00a7ae16-a482-4c1b-b3fe-a0a8f8c57005",
   "metadata": {},
   "outputs": [
    {
     "data": {
      "text/plain": [
       "array([5, 7, 9])"
      ]
     },
     "execution_count": 7,
     "metadata": {},
     "output_type": "execute_result"
    }
   ],
   "source": [
    "num1_arr = np.array(num1)\n",
    "num2_arr = np.array(num2)\n",
    "\n",
    "num1_arr + num2_arr"
   ]
  },
  {
   "cell_type": "code",
   "execution_count": 30,
   "id": "f83ff2ec-d5c9-4921-8472-fb1bf864f55c",
   "metadata": {},
   "outputs": [
    {
     "data": {
      "text/plain": [
       "dtype('int64')"
      ]
     },
     "execution_count": 30,
     "metadata": {},
     "output_type": "execute_result"
    }
   ],
   "source": [
    "num1_arr.dtype\n",
    "# 속성, 메소드"
   ]
  },
  {
   "cell_type": "code",
   "execution_count": 12,
   "id": "56d95552-c7cd-4180-ab12-aa1d0ee0a4f1",
   "metadata": {},
   "outputs": [
    {
     "data": {
      "text/plain": [
       "(3,)"
      ]
     },
     "execution_count": 12,
     "metadata": {},
     "output_type": "execute_result"
    }
   ],
   "source": [
    "num1_arr.shape"
   ]
  },
  {
   "cell_type": "code",
   "execution_count": 11,
   "id": "db3ca008-eb45-4abb-b508-4d9d200fff14",
   "metadata": {},
   "outputs": [
    {
     "data": {
      "text/plain": [
       "1"
      ]
     },
     "execution_count": 11,
     "metadata": {},
     "output_type": "execute_result"
    }
   ],
   "source": [
    "# 차원에 대한 설명\n",
    "num1_arr.ndim"
   ]
  },
  {
   "cell_type": "code",
   "execution_count": 29,
   "id": "139a4934-c63d-480f-acb4-8faac4b0fb8b",
   "metadata": {},
   "outputs": [
    {
     "data": {
      "text/plain": [
       "np.int64(3)"
      ]
     },
     "execution_count": 29,
     "metadata": {},
     "output_type": "execute_result"
    }
   ],
   "source": [
    "num1_arr.max(axis=0)"
   ]
  },
  {
   "cell_type": "code",
   "execution_count": 32,
   "id": "9d90205e-0352-4a51-b542-2585aa466729",
   "metadata": {},
   "outputs": [
    {
     "data": {
      "text/plain": [
       "dtype('int8')"
      ]
     },
     "execution_count": 32,
     "metadata": {},
     "output_type": "execute_result"
    }
   ],
   "source": [
    "num1_arr = np.array(num1,dtype='int8')\n",
    "num1_arr.dtype"
   ]
  },
  {
   "cell_type": "markdown",
   "id": "b9782eb4-3d6f-49aa-8200-8957097db7e5",
   "metadata": {},
   "source": [
    "## 배열 만드는 방법"
   ]
  },
  {
   "cell_type": "code",
   "execution_count": 34,
   "id": "ea51a099-5ba5-4fcf-bbc3-75685d2cd706",
   "metadata": {
    "jp-MarkdownHeadingCollapsed": true
   },
   "outputs": [
    {
     "name": "stdout",
     "output_type": "stream",
     "text": [
      "[1. 1. 1.]\n"
     ]
    }
   ],
   "source": [
    "# 기본적으로 다른 데이터 자료형을 numpy 배열로 변환\n",
    "# 배열 생성\n",
    "print(np.ones(3))"
   ]
  },
  {
   "cell_type": "code",
   "execution_count": null,
   "id": "d986a155-aa54-4dc5-a443-fe7137f69b27",
   "metadata": {},
   "outputs": [],
   "source": []
  },
  {
   "cell_type": "code",
   "execution_count": 37,
   "id": "c0e0cf40-bb43-46c9-a79e-a8f65700416d",
   "metadata": {},
   "outputs": [
    {
     "name": "stdout",
     "output_type": "stream",
     "text": [
      "[0. 0. 0. 0. 0.]\n"
     ]
    }
   ],
   "source": [
    "print(np.zeros(5))"
   ]
  },
  {
   "cell_type": "code",
   "execution_count": 45,
   "id": "e134f826-edbf-4461-a34d-55620d03b46c",
   "metadata": {},
   "outputs": [
    {
     "data": {
      "text/plain": [
       "(2, 2)"
      ]
     },
     "execution_count": 45,
     "metadata": {},
     "output_type": "execute_result"
    }
   ],
   "source": [
    "arr = np.ndarray(shape=(2,2),dtype=float, order='F')\n",
    "arr.shape"
   ]
  },
  {
   "cell_type": "markdown",
   "id": "eb50ab53-d086-4202-ad93-f42979139beb",
   "metadata": {},
   "source": [
    "## 배열의 차원을 변경"
   ]
  },
  {
   "cell_type": "code",
   "execution_count": 48,
   "id": "010a3e79-2dbb-4d5e-9bf4-00255b10a4c2",
   "metadata": {},
   "outputs": [
    {
     "data": {
      "text/plain": [
       "array([ 0,  1,  2,  3,  4,  5,  6,  7,  8,  9, 10, 11, 12, 13, 14, 15])"
      ]
     },
     "execution_count": 48,
     "metadata": {},
     "output_type": "execute_result"
    }
   ],
   "source": [
    "temp_arr = np.arange(16)\n",
    "temp_arr"
   ]
  },
  {
   "cell_type": "code",
   "execution_count": 54,
   "id": "8ab7a9d9-8e83-4ebd-8102-1b501a9f36f7",
   "metadata": {},
   "outputs": [
    {
     "data": {
      "text/plain": [
       "array([[[ 0,  1,  2,  3],\n",
       "        [ 4,  5,  6,  7]],\n",
       "\n",
       "       [[ 8,  9, 10, 11],\n",
       "        [12, 13, 14, 15]]])"
      ]
     },
     "execution_count": 54,
     "metadata": {},
     "output_type": "execute_result"
    }
   ],
   "source": [
    "temp_arr.reshape(2,2,4)"
   ]
  },
  {
   "cell_type": "code",
   "execution_count": 56,
   "id": "75e5ad09-7b59-43a0-bfba-6dc1c6e868ff",
   "metadata": {},
   "outputs": [
    {
     "name": "stdout",
     "output_type": "stream",
     "text": [
      "[1.333]\n",
      "[1.333333]\n"
     ]
    }
   ],
   "source": [
    "# bit 맞추는 것  중요! \n",
    "# 특히 연산을 하는 경우에는 다 맞는지 확인해야함\n",
    "a16 = np.array([1.333333],dtype = np.float16)\n",
    "a32 = np.array([1.333333],dtype = np.float32)\n",
    "\n",
    "print(a16)\n",
    "print(a32)"
   ]
  },
  {
   "cell_type": "code",
   "execution_count": 57,
   "id": "2962ea43-49dd-47b5-adb8-1c2c64624008",
   "metadata": {},
   "outputs": [
    {
     "name": "stderr",
     "output_type": "stream",
     "text": [
      "/var/folders/b9/_gjz7nvj7pb9z2jrhj9r9ptr0000gn/T/ipykernel_19922/3505445433.py:2: RuntimeWarning: divide by zero encountered in divide\n",
      "  arr/0\n"
     ]
    },
    {
     "data": {
      "text/plain": [
       "array([-inf,  inf, -inf])"
      ]
     },
     "execution_count": 57,
     "metadata": {},
     "output_type": "execute_result"
    }
   ],
   "source": [
    "arr = np.array([-1,2,-3])\n",
    "arr/0"
   ]
  },
  {
   "cell_type": "markdown",
   "id": "e79dc7b2-0125-4607-ba33-f12fb2834a68",
   "metadata": {},
   "source": [
    "## 결측치 (missing value)\n",
    "- NaN : not a number\n",
    "    - 아직 정의되지 않은 숫자 의미\n",
    "- Null:"
   ]
  },
  {
   "cell_type": "code",
   "execution_count": 58,
   "id": "2263d192-78ac-4650-b987-472165646351",
   "metadata": {},
   "outputs": [
    {
     "name": "stdout",
     "output_type": "stream",
     "text": [
      "<class 'float'>\n"
     ]
    }
   ],
   "source": [
    "print(type(np.nan))"
   ]
  },
  {
   "cell_type": "code",
   "execution_count": 60,
   "id": "8d2c622f-8c4d-48d5-8f35-aa3d4cb157db",
   "metadata": {},
   "outputs": [
    {
     "name": "stdout",
     "output_type": "stream",
     "text": [
      "inf <class 'float'>\n"
     ]
    }
   ],
   "source": [
    "print(np.inf, type(np.inf))"
   ]
  },
  {
   "cell_type": "code",
   "execution_count": 61,
   "id": "a1b33977-79db-4b5f-b82c-9e0886f5eff7",
   "metadata": {},
   "outputs": [
    {
     "name": "stdout",
     "output_type": "stream",
     "text": [
      "-inf <class 'float'>\n"
     ]
    }
   ],
   "source": [
    "print(-np.inf, type(-np.inf))"
   ]
  },
  {
   "cell_type": "code",
   "execution_count": 62,
   "id": "fc3af457-4147-4063-ba84-ba701a40783f",
   "metadata": {},
   "outputs": [
    {
     "name": "stdout",
     "output_type": "stream",
     "text": [
      "[nan nan nan]\n",
      "[inf inf inf]\n"
     ]
    }
   ],
   "source": [
    "# 계산시 nan, inf 로 됨 \n",
    "arr = np.array([-1,2,-3])\n",
    "print(arr + np.nan)\n",
    "print(arr + np.inf)"
   ]
  },
  {
   "cell_type": "markdown",
   "id": "a0e5d977-3cf1-44c2-a72c-fb353303f78e",
   "metadata": {},
   "source": [
    "## 인덱싱 & 슬라이싱"
   ]
  },
  {
   "cell_type": "code",
   "execution_count": 65,
   "id": "49d1e043-ac16-47e0-a1b2-091135d06c8c",
   "metadata": {},
   "outputs": [
    {
     "data": {
      "text/plain": [
       "array([1, 2, 3, 4])"
      ]
     },
     "execution_count": 65,
     "metadata": {},
     "output_type": "execute_result"
    }
   ],
   "source": [
    "arr = np.arange(10)\n",
    "arr[1:5]"
   ]
  },
  {
   "cell_type": "code",
   "execution_count": 70,
   "id": "33f5b71c-5cb4-4300-b281-cefd8a4e6093",
   "metadata": {},
   "outputs": [
    {
     "data": {
      "text/plain": [
       "np.int64(0)"
      ]
     },
     "execution_count": 70,
     "metadata": {},
     "output_type": "execute_result"
    }
   ],
   "source": [
    "arr=np.arange(10).reshape(2,5)\n",
    "arr[0][0]"
   ]
  },
  {
   "cell_type": "code",
   "execution_count": 74,
   "id": "f0d2db4a-0db5-441d-a15c-d8fba45bd60d",
   "metadata": {},
   "outputs": [
    {
     "data": {
      "text/plain": [
       "array([[ 0,  1,  2,  3,  4,  5,  6,  7,  8,  9, 10, 11, 12, 13, 14, 15,\n",
       "        16, 17, 18, 19, 20, 21, 22, 23, 24, 25, 26, 27, 28, 29, 30, 31,\n",
       "        32, 33, 34, 35, 36, 37, 38, 39, 40, 41, 42, 43, 44, 45, 46, 47,\n",
       "        48, 49, 50, 51, 52, 53, 54, 55, 56, 57, 58, 59, 60, 61, 62, 63,\n",
       "        64, 65, 66, 67, 68, 69, 70, 71, 72, 73, 74, 75, 76, 77, 78, 79,\n",
       "        80, 81, 82, 83, 84, 85, 86, 87, 88, 89, 90, 91, 92, 93, 94, 95,\n",
       "        96, 97, 98, 99]])"
      ]
     },
     "execution_count": 74,
     "metadata": {},
     "output_type": "execute_result"
    }
   ],
   "source": [
    "arr=np.arange(10000).reshape(100,100)\n",
    "# arr[0:4][0:1]"
   ]
  },
  {
   "cell_type": "code",
   "execution_count": 75,
   "id": "dd96289b-490e-4c92-9ac8-6f4b4e7ef8bc",
   "metadata": {},
   "outputs": [
    {
     "data": {
      "text/plain": [
       "array([0, 1])"
      ]
     },
     "execution_count": 75,
     "metadata": {},
     "output_type": "execute_result"
    }
   ],
   "source": [
    "arr = np.arange(4)\n",
    "arr[:2] "
   ]
  },
  {
   "cell_type": "code",
   "execution_count": 85,
   "id": "17d1a148-2e48-4857-815b-b5447dbf93b4",
   "metadata": {},
   "outputs": [
    {
     "data": {
      "text/plain": [
       "array([[ 7,  8,  9],\n",
       "       [12, 13, 14],\n",
       "       [17, 18, 19]])"
      ]
     },
     "execution_count": 85,
     "metadata": {},
     "output_type": "execute_result"
    }
   ],
   "source": [
    "arr = np.arange(20).reshape(4,5)\n",
    "arr[1:4,2:5]"
   ]
  },
  {
   "cell_type": "code",
   "execution_count": 92,
   "id": "3a83cca9-8103-47b1-9d64-7c599f88df04",
   "metadata": {},
   "outputs": [
    {
     "name": "stdout",
     "output_type": "stream",
     "text": [
      "[[[ 0  1  2  3  4]\n",
      "  [ 5  6  7  8  9]]\n",
      "\n",
      " [[10 11 12 13 14]\n",
      "  [15 16 17 18 19]]]\n"
     ]
    },
    {
     "data": {
      "text/plain": [
       "array([[[16, 17, 18, 19]]])"
      ]
     },
     "execution_count": 92,
     "metadata": {},
     "output_type": "execute_result"
    }
   ],
   "source": [
    "arr = np.arange(20).reshape(2,2,5)\n",
    "print(arr)\n",
    "arr[1:,1:,1:] # [차원, 행, 열]"
   ]
  },
  {
   "cell_type": "markdown",
   "id": "7230244b-8f7f-4523-970a-f45561a1a72b",
   "metadata": {},
   "source": [
    "## 브로드캐스팅 연산\n",
    "- 배열의 크기가 다르더라도 브로드캐스팅 법칙에 의해 연산을 해주는 것"
   ]
  },
  {
   "cell_type": "code",
   "execution_count": 93,
   "id": "71e24348-99da-443d-8dcf-b23afa284fb2",
   "metadata": {},
   "outputs": [
    {
     "data": {
      "text/plain": [
       "array([4., 5., 6.])"
      ]
     },
     "execution_count": 93,
     "metadata": {},
     "output_type": "execute_result"
    }
   ],
   "source": [
    "a = np.array([1,2,3]) \n",
    "b = 3.0\n",
    "# 각각에 3.0이 들어가서 연산을 한 것 \n",
    "a+b\n"
   ]
  },
  {
   "cell_type": "markdown",
   "id": "0e198369-5981-4b58-b485-fe763bf22875",
   "metadata": {},
   "source": [
    "##문제\n"
   ]
  },
  {
   "cell_type": "code",
   "execution_count": 100,
   "id": "76b73405-fcd0-4fb1-a462-c5c0b3cce611",
   "metadata": {},
   "outputs": [
    {
     "data": {
      "text/plain": [
       "array([[0., 0., 0., 0., 0.],\n",
       "       [0., 0., 0., 0., 0.],\n",
       "       [0., 0., 0., 0., 0.],\n",
       "       [0., 0., 0., 0., 0.],\n",
       "       [0., 0., 0., 0., 0.]])"
      ]
     },
     "execution_count": 100,
     "metadata": {},
     "output_type": "execute_result"
    }
   ],
   "source": [
    "#1\n",
    "# arr = np.zeros(25).reshape(5,5)\n",
    "np.zeros((5,5))\n",
    "arr"
   ]
  },
  {
   "cell_type": "code",
   "execution_count": 106,
   "id": "c81d376e-4539-4c69-985b-0a4263f14cff",
   "metadata": {},
   "outputs": [
    {
     "data": {
      "text/plain": [
       "dtype('float64')"
      ]
     },
     "execution_count": 106,
     "metadata": {},
     "output_type": "execute_result"
    }
   ],
   "source": [
    "#2\n",
    "arr = np.ndarray(shape=(3,3))\n",
    "arr.dtype"
   ]
  },
  {
   "cell_type": "code",
   "execution_count": 107,
   "id": "7cea85ff-431b-4e44-b757-e7b660c00dae",
   "metadata": {},
   "outputs": [
    {
     "data": {
      "text/plain": [
       "2"
      ]
     },
     "execution_count": 107,
     "metadata": {},
     "output_type": "execute_result"
    }
   ],
   "source": [
    "arr.ndim"
   ]
  },
  {
   "cell_type": "code",
   "execution_count": 108,
   "id": "d038d0d8-469e-43fa-a77f-9e4c2e3171c4",
   "metadata": {},
   "outputs": [
    {
     "data": {
      "text/plain": [
       "array([[ 5,  6],\n",
       "       [ 9, 10]])"
      ]
     },
     "execution_count": 108,
     "metadata": {},
     "output_type": "execute_result"
    }
   ],
   "source": [
    "#3\n",
    "arr = np.arange(16).reshape(4,4)\n",
    "arr[1:3,1:3]"
   ]
  },
  {
   "cell_type": "markdown",
   "id": "1ff2b30d-1869-4dc2-8fa2-e1af915b8223",
   "metadata": {},
   "source": [
    "## 조건 연산\n",
    "- 원하는 결과값: True / False"
   ]
  },
  {
   "cell_type": "code",
   "execution_count": 109,
   "id": "8245279f-ae98-4cc5-95be-a689c74eac09",
   "metadata": {},
   "outputs": [
    {
     "data": {
      "text/plain": [
       "array([False,  True,  True])"
      ]
     },
     "execution_count": 109,
     "metadata": {},
     "output_type": "execute_result"
    }
   ],
   "source": [
    "arr = np.array([10,20,30])\n",
    "arr > 10"
   ]
  },
  {
   "cell_type": "code",
   "execution_count": 112,
   "id": "e2f2d718-0ff9-4d72-b397-bb54365aba0d",
   "metadata": {},
   "outputs": [
    {
     "data": {
      "text/plain": [
       "array([20, 30, 50])"
      ]
     },
     "execution_count": 112,
     "metadata": {},
     "output_type": "execute_result"
    }
   ],
   "source": [
    "# filter\n",
    "arr = np.array([18,20,30,50,16])\n",
    "cond = arr > 18\n",
    "\n",
    "arr[cond]"
   ]
  },
  {
   "cell_type": "code",
   "execution_count": 113,
   "id": "bcdf7af1-a59f-4093-a239-0a28fbc10b27",
   "metadata": {},
   "outputs": [
    {
     "data": {
      "text/plain": [
       "array([20, 30, 50])"
      ]
     },
     "execution_count": 113,
     "metadata": {},
     "output_type": "execute_result"
    }
   ],
   "source": [
    "arr = np.array([18,20,30,50,16])\n",
    "arr[arr > 18]"
   ]
  },
  {
   "cell_type": "code",
   "execution_count": 117,
   "id": "5bddaba9-320b-4541-aa95-bb5ec2a4993b",
   "metadata": {},
   "outputs": [
    {
     "data": {
      "text/plain": [
       "array([20, 30, 50])"
      ]
     },
     "execution_count": 117,
     "metadata": {},
     "output_type": "execute_result"
    }
   ],
   "source": [
    "# 다중조건\n",
    "arr = np.array([18,20,30,50,16,65,70])\n",
    "con0 = arr > 18\n",
    "con1 = arr < 65\n",
    "\n",
    "arr[con0 & con1]  # AND"
   ]
  },
  {
   "cell_type": "code",
   "execution_count": 118,
   "id": "b2b7a0c5-d3a7-4c74-92ce-4a5aeb1ba897",
   "metadata": {},
   "outputs": [
    {
     "data": {
      "text/plain": [
       "array([18, 20, 30, 50, 16, 65, 70])"
      ]
     },
     "execution_count": 118,
     "metadata": {},
     "output_type": "execute_result"
    }
   ],
   "source": [
    "arr[con0 | con1]  # OR"
   ]
  },
  {
   "cell_type": "code",
   "execution_count": null,
   "id": "001a6299-7ee8-4c7a-b1ee-3cc079dcfa19",
   "metadata": {},
   "outputs": [],
   "source": [
    "# 권장 사항 \n",
    "# 이유: pandas 다중조건 필터링할때는 이 방법으로만 가능\n",
    "arr[(con0 | con1)]"
   ]
  },
  {
   "cell_type": "markdown",
   "id": "5a3ab33b-1afd-405b-85eb-ce48648b14c0",
   "metadata": {},
   "source": [
    "## np.where"
   ]
  },
  {
   "cell_type": "code",
   "execution_count": 121,
   "id": "f33d0a6f-c372-49e5-990f-9a0c61520acc",
   "metadata": {},
   "outputs": [
    {
     "data": {
      "text/plain": [
       "array([0, 1, 2, 3, 4, 5, 6, 7, 8, 9])"
      ]
     },
     "execution_count": 121,
     "metadata": {},
     "output_type": "execute_result"
    }
   ],
   "source": [
    "a = np.arange(10)\n",
    "a"
   ]
  },
  {
   "cell_type": "code",
   "execution_count": 126,
   "id": "563ffc94-3000-46c5-b143-a52072dc6669",
   "metadata": {},
   "outputs": [
    {
     "data": {
      "text/plain": [
       "array([ 0,  1,  2,  3,  4, 50, 60, 70, 80, 90])"
      ]
     },
     "execution_count": 126,
     "metadata": {},
     "output_type": "execute_result"
    }
   ],
   "source": [
    "# condition , x, y \n",
    "np.where (a < 5, a, 10*a)"
   ]
  },
  {
   "cell_type": "markdown",
   "id": "d5293c66-1db0-4893-b887-d1764fa67fc9",
   "metadata": {},
   "source": [
    "## 함수와 메소드"
   ]
  },
  {
   "cell_type": "code",
   "execution_count": 129,
   "id": "9d1dd809-8eaf-44e1-8b65-80722cbaef60",
   "metadata": {},
   "outputs": [
    {
     "data": {
      "text/plain": [
       "array([[0, 1],\n",
       "       [2, 3],\n",
       "       [4, 5],\n",
       "       [6, 7]])"
      ]
     },
     "execution_count": 129,
     "metadata": {},
     "output_type": "execute_result"
    }
   ],
   "source": [
    "arr = np.arange(8).reshape(4,2)\n",
    "arr"
   ]
  },
  {
   "cell_type": "code",
   "execution_count": 130,
   "id": "d771106c-72ff-46de-9fff-2bbd2bd822d8",
   "metadata": {},
   "outputs": [
    {
     "data": {
      "text/plain": [
       "np.int64(28)"
      ]
     },
     "execution_count": 130,
     "metadata": {},
     "output_type": "execute_result"
    }
   ],
   "source": [
    "arr.sum() # axis = None"
   ]
  },
  {
   "cell_type": "code",
   "execution_count": 131,
   "id": "76ddf252-fee6-4fca-bf29-5c3c3a69189b",
   "metadata": {},
   "outputs": [
    {
     "data": {
      "text/plain": [
       "array([12, 16])"
      ]
     },
     "execution_count": 131,
     "metadata": {},
     "output_type": "execute_result"
    }
   ],
   "source": [
    "arr.sum(axis=0) # x축 방향  / 행"
   ]
  },
  {
   "cell_type": "code",
   "execution_count": 132,
   "id": "050a4d62-55a8-4297-9d02-f068876d2397",
   "metadata": {},
   "outputs": [
    {
     "data": {
      "text/plain": [
       "array([ 1,  5,  9, 13])"
      ]
     },
     "execution_count": 132,
     "metadata": {},
     "output_type": "execute_result"
    }
   ],
   "source": [
    "arr.sum(axis=1) # y축 방향  / 열"
   ]
  },
  {
   "cell_type": "markdown",
   "id": "dec72a4a-ce5e-4187-9330-045712597071",
   "metadata": {},
   "source": [
    "## 무작위 랜덤 함수 "
   ]
  },
  {
   "cell_type": "code",
   "execution_count": 134,
   "id": "637a3576-ff65-4be0-a4ca-03249fe3fbbb",
   "metadata": {},
   "outputs": [
    {
     "data": {
      "text/plain": [
       "4"
      ]
     },
     "execution_count": 134,
     "metadata": {},
     "output_type": "execute_result"
    }
   ],
   "source": [
    "np.random.seed(7)     # 고정\n",
    "np.random.randint(10)"
   ]
  },
  {
   "cell_type": "code",
   "execution_count": 135,
   "id": "08da31a8-b860-4468-9ea3-8612be46274d",
   "metadata": {},
   "outputs": [
    {
     "data": {
      "text/plain": [
       "array([25,  3, 19, 23, 39, 28])"
      ]
     },
     "execution_count": 135,
     "metadata": {},
     "output_type": "execute_result"
    }
   ],
   "source": [
    "np.random.randint(46, size=6) #0-45번까지의 숫자 중 무작위로 6개"
   ]
  },
  {
   "cell_type": "code",
   "execution_count": 136,
   "id": "430c83ab-5401-4325-b255-6ddfb39f7ddc",
   "metadata": {},
   "outputs": [
    {
     "data": {
      "text/plain": [
       "array([[14, 23,  8],\n",
       "       [25, 42, 26],\n",
       "       [ 8, 39, 38]])"
      ]
     },
     "execution_count": 136,
     "metadata": {},
     "output_type": "execute_result"
    }
   ],
   "source": [
    "np.random.randint(46, size=(3,3))"
   ]
  },
  {
   "cell_type": "code",
   "execution_count": 138,
   "id": "b45045e5-673c-4301-ae9c-9b8320ca25fd",
   "metadata": {},
   "outputs": [
    {
     "name": "stdout",
     "output_type": "stream",
     "text": [
      "[  0.  10.  20.  30.  40.  50.  60.  70.  80.  90. 100.]\n"
     ]
    }
   ],
   "source": [
    "# 0-100 까지 11개 분할\n",
    "x = np.linspace(0,100,11)\n",
    "print(x)"
   ]
  },
  {
   "cell_type": "markdown",
   "id": "97bbaa6f-fa46-4a2b-b5ac-9d0701481590",
   "metadata": {},
   "source": [
    "# Pandas.Series"
   ]
  },
  {
   "cell_type": "code",
   "execution_count": 140,
   "id": "a6acfbf5-c42b-45de-9dd0-accfb8545de1",
   "metadata": {},
   "outputs": [
    {
     "data": {
      "text/plain": [
       "'2.2.3'"
      ]
     },
     "execution_count": 140,
     "metadata": {},
     "output_type": "execute_result"
    }
   ],
   "source": [
    "import pandas as pd\n",
    "pd.__version__"
   ]
  },
  {
   "cell_type": "code",
   "execution_count": 141,
   "id": "97668129-c993-4ced-8046-e66e531171b5",
   "metadata": {},
   "outputs": [],
   "source": [
    "data = [10,20,30]\n",
    "s = pd.Series(data)"
   ]
  },
  {
   "cell_type": "code",
   "execution_count": 142,
   "id": "5b8fb853-459b-459f-bf5c-2daa247a31cc",
   "metadata": {},
   "outputs": [
    {
     "data": {
      "text/plain": [
       "0    10\n",
       "1    20\n",
       "2    30\n",
       "dtype: int64"
      ]
     },
     "execution_count": 142,
     "metadata": {},
     "output_type": "execute_result"
    }
   ],
   "source": [
    "s"
   ]
  },
  {
   "cell_type": "code",
   "execution_count": 143,
   "id": "9f0905b7-0e6f-49be-ad6e-d827671b5e59",
   "metadata": {},
   "outputs": [
    {
     "name": "stdout",
     "output_type": "stream",
     "text": [
      "<class 'pandas.core.series.Series'>\n"
     ]
    }
   ],
   "source": [
    "print(type(s))"
   ]
  },
  {
   "cell_type": "code",
   "execution_count": 145,
   "id": "9ff55bb6-c4a2-4be6-b84f-d108c425dead",
   "metadata": {},
   "outputs": [
    {
     "data": {
      "text/plain": [
       "0    0\n",
       "1    1\n",
       "2    2\n",
       "3    3\n",
       "4    4\n",
       "dtype: int64"
      ]
     },
     "execution_count": 145,
     "metadata": {},
     "output_type": "execute_result"
    }
   ],
   "source": [
    "import numpy as np\n",
    "\n",
    "data = np.arange(5)\n",
    "s = pd.Series(data)\n",
    "s"
   ]
  },
  {
   "cell_type": "code",
   "execution_count": 147,
   "id": "2b7f0a48-1c16-47e7-8c18-2c8c56de52bc",
   "metadata": {},
   "outputs": [
    {
     "data": {
      "text/html": [
       "<div>\n",
       "<style scoped>\n",
       "    .dataframe tbody tr th:only-of-type {\n",
       "        vertical-align: middle;\n",
       "    }\n",
       "\n",
       "    .dataframe tbody tr th {\n",
       "        vertical-align: top;\n",
       "    }\n",
       "\n",
       "    .dataframe thead th {\n",
       "        text-align: right;\n",
       "    }\n",
       "</style>\n",
       "<table border=\"1\" class=\"dataframe\">\n",
       "  <thead>\n",
       "    <tr style=\"text-align: right;\">\n",
       "      <th></th>\n",
       "      <th>0</th>\n",
       "    </tr>\n",
       "  </thead>\n",
       "  <tbody>\n",
       "    <tr>\n",
       "      <th>0</th>\n",
       "      <td>0</td>\n",
       "    </tr>\n",
       "    <tr>\n",
       "      <th>1</th>\n",
       "      <td>1</td>\n",
       "    </tr>\n",
       "    <tr>\n",
       "      <th>2</th>\n",
       "      <td>2</td>\n",
       "    </tr>\n",
       "    <tr>\n",
       "      <th>3</th>\n",
       "      <td>3</td>\n",
       "    </tr>\n",
       "    <tr>\n",
       "      <th>4</th>\n",
       "      <td>4</td>\n",
       "    </tr>\n",
       "  </tbody>\n",
       "</table>\n",
       "</div>"
      ],
      "text/plain": [
       "   0\n",
       "0  0\n",
       "1  1\n",
       "2  2\n",
       "3  3\n",
       "4  4"
      ]
     },
     "execution_count": 147,
     "metadata": {},
     "output_type": "execute_result"
    }
   ],
   "source": [
    "data = np.arange(5)\n",
    "df = pd.DataFrame(data)\n",
    "df"
   ]
  },
  {
   "cell_type": "code",
   "execution_count": 149,
   "id": "f2c520f0-0ad3-486e-a41e-29b50ca58384",
   "metadata": {},
   "outputs": [
    {
     "data": {
      "text/plain": [
       "0    시가\n",
       "1    고가\n",
       "dtype: object"
      ]
     },
     "execution_count": 149,
     "metadata": {},
     "output_type": "execute_result"
    }
   ],
   "source": [
    "data = [\"시가\",\"고가\"]\n",
    "s = pd.Series(data)\n",
    "s"
   ]
  },
  {
   "cell_type": "code",
   "execution_count": 150,
   "id": "049351a5-c10b-405a-83d9-e76c229f854a",
   "metadata": {},
   "outputs": [
    {
     "data": {
      "text/plain": [
       "0    80000\n",
       "1    90000\n",
       "dtype: object"
      ]
     },
     "execution_count": 150,
     "metadata": {},
     "output_type": "execute_result"
    }
   ],
   "source": [
    "data = [80000,'90000']\n",
    "s = pd.Series(data)\n",
    "s"
   ]
  },
  {
   "cell_type": "markdown",
   "id": "20b623aa-2862-4b1f-8765-4b13ed64729b",
   "metadata": {},
   "source": [
    "## 시리즈 인덱스"
   ]
  },
  {
   "cell_type": "code",
   "execution_count": 155,
   "id": "48c9d0c9-bd8b-45ec-a594-a81f4c51ee55",
   "metadata": {},
   "outputs": [
    {
     "name": "stdout",
     "output_type": "stream",
     "text": [
      "RangeIndex(start=0, stop=3, step=1) <class 'pandas.core.indexes.range.RangeIndex'>\n"
     ]
    }
   ],
   "source": [
    "data = [1000,2000,3000]\n",
    "s = pd.Series(data)\n",
    "print(s.index, type(s.index))"
   ]
  },
  {
   "cell_type": "code",
   "execution_count": 156,
   "id": "fb8d682d-f228-4851-a9cd-649137b4f7ad",
   "metadata": {},
   "outputs": [
    {
     "data": {
      "text/plain": [
       "[0, 1, 2]"
      ]
     },
     "execution_count": 156,
     "metadata": {},
     "output_type": "execute_result"
    }
   ],
   "source": [
    "list(s.index)"
   ]
  },
  {
   "cell_type": "code",
   "execution_count": 157,
   "id": "5a91e55b-791b-4260-a009-da8b931bca98",
   "metadata": {},
   "outputs": [
    {
     "data": {
      "text/plain": [
       "[0, 1, 2]"
      ]
     },
     "execution_count": 157,
     "metadata": {},
     "output_type": "execute_result"
    }
   ],
   "source": [
    "s.index.to_list()"
   ]
  },
  {
   "cell_type": "code",
   "execution_count": 170,
   "id": "9eeffd3c-3c28-4590-9790-068148536a3b",
   "metadata": {},
   "outputs": [
    {
     "data": {
      "text/plain": [
       "메로나    1000\n",
       "월드콘    2000\n",
       "와      3000\n",
       "dtype: int64"
      ]
     },
     "execution_count": 170,
     "metadata": {},
     "output_type": "execute_result"
    }
   ],
   "source": [
    "# 시리즈 생성하면서 인덱스도 같이 생성\n",
    "data = [1000,2000,3000]\n",
    "index = ['메로나','월드콘','와']\n",
    "\n",
    "s = pd.Series(data, index)\n",
    "s"
   ]
  },
  {
   "cell_type": "code",
   "execution_count": 162,
   "id": "3141965b-462b-4cfd-9cd9-f08d51f37382",
   "metadata": {},
   "outputs": [
    {
     "data": {
      "text/plain": [
       "Index(['메로나', '월드콘', '와'], dtype='object')"
      ]
     },
     "execution_count": 162,
     "metadata": {},
     "output_type": "execute_result"
    }
   ],
   "source": [
    "s.index"
   ]
  },
  {
   "cell_type": "code",
   "execution_count": 164,
   "id": "29f422c8-7687-40df-b45d-9347631071d1",
   "metadata": {},
   "outputs": [
    {
     "data": {
      "text/plain": [
       "(array([[1000],\n",
       "        [2000],\n",
       "        [3000]]),\n",
       " numpy.ndarray)"
      ]
     },
     "execution_count": 164,
     "metadata": {},
     "output_type": "execute_result"
    }
   ],
   "source": [
    "s.values, type(s.values)\n",
    "# 타입이 numpy이기 때문에 이 형태에서는 numpy에서 사용하는 연산들 가능함"
   ]
  },
  {
   "cell_type": "markdown",
   "id": "b9bb0e77-3963-42db-9abc-e5fb6c7abb26",
   "metadata": {},
   "source": [
    "## 시리즈 인덱싱\n",
    "- iloc ( 값을 통해서 접근 / 위치 기반 )\n",
    "  - ETL 경우 사용 ( 속도가 더 빠름 )\n",
    "  - 슬라이싱 기반으로 접근\n",
    "- loc ( 이름 기반 / label 기반 )\n",
    "- DataFrame 사용시 loc 를 기본값으로 생각하면 됨\n",
    "  - 아무래도 feature에 이름이 있기 때문이 아닐까..?"
   ]
  },
  {
   "cell_type": "code",
   "execution_count": null,
   "id": "abe24de4-9f89-4204-a977-2bb02eddf603",
   "metadata": {},
   "outputs": [],
   "source": []
  },
  {
   "cell_type": "code",
   "execution_count": null,
   "id": "713105d5-fc0a-439e-8fab-0c63e404e31c",
   "metadata": {},
   "outputs": [],
   "source": []
  },
  {
   "cell_type": "code",
   "execution_count": null,
   "id": "68676a75-e0b0-4555-903e-167ba56145c2",
   "metadata": {},
   "outputs": [],
   "source": []
  },
  {
   "cell_type": "code",
   "execution_count": 181,
   "id": "eb05d89a-ee7d-4bb8-a560-7da7978c97a9",
   "metadata": {},
   "outputs": [
    {
     "data": {
      "text/plain": [
       "메로나    1000\n",
       "월드콘    2000\n",
       "와      3000\n",
       "dtype: int64"
      ]
     },
     "execution_count": 181,
     "metadata": {},
     "output_type": "execute_result"
    }
   ],
   "source": [
    "s.iloc[:3]"
   ]
  },
  {
   "cell_type": "code",
   "execution_count": 180,
   "id": "617d153a-9653-49e0-9776-ce7399392128",
   "metadata": {},
   "outputs": [
    {
     "data": {
      "text/plain": [
       "메로나    1000\n",
       "월드콘    2000\n",
       "와      3000\n",
       "dtype: int64"
      ]
     },
     "execution_count": 180,
     "metadata": {},
     "output_type": "execute_result"
    }
   ],
   "source": [
    "s.loc[\"메로나\":\"와\"]"
   ]
  },
  {
   "cell_type": "code",
   "execution_count": 165,
   "id": "df0eb611-50f6-4677-ae61-75151ae8e5af",
   "metadata": {},
   "outputs": [
    {
     "name": "stdout",
     "output_type": "stream",
     "text": [
      "0    1000\n",
      "Name: 메로나, dtype: int64\n"
     ]
    }
   ],
   "source": [
    "print(s.iloc[0])"
   ]
  },
  {
   "cell_type": "code",
   "execution_count": 167,
   "id": "2787f329-ca20-4d6c-b0ee-96e878b6a690",
   "metadata": {},
   "outputs": [
    {
     "name": "stdout",
     "output_type": "stream",
     "text": [
      "0    1000\n",
      "Name: 메로나, dtype: int64\n"
     ]
    }
   ],
   "source": [
    "print(s.loc['메로나']) # dict 같은 너낌~"
   ]
  },
  {
   "cell_type": "code",
   "execution_count": 175,
   "id": "e1f91d3e-1db7-47e5-a965-49534968c5c0",
   "metadata": {},
   "outputs": [
    {
     "data": {
      "text/plain": [
       "[0, 1, 2]"
      ]
     },
     "execution_count": 175,
     "metadata": {},
     "output_type": "execute_result"
    }
   ],
   "source": [
    "data = [1000,2000,3000]\n",
    "# index가 없음\n",
    "\n",
    "s2 = pd.Series(data)\n",
    "s2.index.to_list()\n",
    "# print(s2.iloc[0])\n",
    "# print(s2.loc['메로나'])"
   ]
  },
  {
   "cell_type": "code",
   "execution_count": null,
   "id": "27f58116-06ca-4994-a118-979941070308",
   "metadata": {},
   "outputs": [],
   "source": [
    "print(s2.iloc[0])  # iloc 에서의 0은 위치 0을 의미\n",
    "print(s2.loc[0])   # loc 에서의 0은 라벨 0을 의미 \n"
   ]
  },
  {
   "cell_type": "markdown",
   "id": "d5e51193-7305-426c-9638-166490142fc4",
   "metadata": {},
   "source": [
    "## 슬라이싱\n",
    "- iloc[0:3] -> 0-2 출력\n",
    "- loc[0:3] -> 0-3 출력"
   ]
  },
  {
   "cell_type": "code",
   "execution_count": null,
   "id": "dd38f67c-0a37-4214-8608-9991ae017e51",
   "metadata": {},
   "outputs": [],
   "source": []
  },
  {
   "cell_type": "code",
   "execution_count": null,
   "id": "7f546c24-e410-4d22-b753-431e79dd4b84",
   "metadata": {},
   "outputs": [],
   "source": []
  },
  {
   "cell_type": "code",
   "execution_count": null,
   "id": "8aed928e-87a4-4dcc-bc98-7e1dcea1cd32",
   "metadata": {},
   "outputs": [],
   "source": []
  },
  {
   "cell_type": "code",
   "execution_count": null,
   "id": "cb21710d-5826-4398-b5de-958d9c46992c",
   "metadata": {},
   "outputs": [],
   "source": []
  }
 ],
 "metadata": {
  "kernelspec": {
   "display_name": "Python 3 (ipykernel)",
   "language": "python",
   "name": "python3"
  },
  "language_info": {
   "codemirror_mode": {
    "name": "ipython",
    "version": 3
   },
   "file_extension": ".py",
   "mimetype": "text/x-python",
   "name": "python",
   "nbconvert_exporter": "python",
   "pygments_lexer": "ipython3",
   "version": "3.12.6"
  }
 },
 "nbformat": 4,
 "nbformat_minor": 5
}
