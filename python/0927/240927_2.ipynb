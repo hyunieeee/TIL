{
 "cells": [
  {
   "cell_type": "markdown",
   "id": "91a95e00-1b20-4dba-8bb6-0a9a23199422",
   "metadata": {},
   "source": [
    "# 시리즈 수정/추가/ 삭제"
   ]
  },
  {
   "cell_type": "code",
   "execution_count": 2,
   "id": "86b18845-d041-4b49-8b41-ea196950ea45",
   "metadata": {},
   "outputs": [
    {
     "data": {
      "text/plain": [
       "메로나    1000\n",
       "월드콘    2000\n",
       "와      3000\n",
       "dtype: int64"
      ]
     },
     "execution_count": 2,
     "metadata": {},
     "output_type": "execute_result"
    }
   ],
   "source": [
    "import pandas as pd\n",
    "\n",
    "data = [1000,2000,3000]\n",
    "index = ['메로나','월드콘','와']\n",
    "\n",
    "s=pd.Series(data,index)\n",
    "s"
   ]
  },
  {
   "cell_type": "code",
   "execution_count": 4,
   "id": "54336308-acb7-4acf-bc60-0e5f10bbc44e",
   "metadata": {},
   "outputs": [
    {
     "data": {
      "text/plain": [
       "메로나      50\n",
       "월드콘    2000\n",
       "와      3000\n",
       "dtype: int64"
      ]
     },
     "execution_count": 4,
     "metadata": {},
     "output_type": "execute_result"
    }
   ],
   "source": [
    "s.loc['메로나']=500\n",
    "s"
   ]
  },
  {
   "cell_type": "code",
   "execution_count": 5,
   "id": "79f0cfee-4f7a-4d8b-ac6b-18fed795761d",
   "metadata": {},
   "outputs": [
    {
     "data": {
      "text/plain": [
       "메로나     500\n",
       "월드콘    2000\n",
       "와      3000\n",
       "dtype: int64"
      ]
     },
     "execution_count": 5,
     "metadata": {},
     "output_type": "execute_result"
    }
   ],
   "source": [
    "s.iloc[0]=500\n",
    "s"
   ]
  },
  {
   "cell_type": "code",
   "execution_count": 6,
   "id": "255b0936-239e-4da4-a72b-6bdc95d99ab1",
   "metadata": {},
   "outputs": [
    {
     "data": {
      "text/plain": [
       "메로나     500\n",
       "월드콘    2000\n",
       "와      3000\n",
       "dtype: int64"
      ]
     },
     "execution_count": 6,
     "metadata": {},
     "output_type": "execute_result"
    }
   ],
   "source": [
    "s['메로나'] = 500\n",
    "s"
   ]
  },
  {
   "cell_type": "markdown",
   "id": "fca401ff-2108-4501-9381-33740e97bbcf",
   "metadata": {},
   "source": [
    "## 시리즈 연산"
   ]
  },
  {
   "cell_type": "code",
   "execution_count": 8,
   "id": "34e30006-0a86-4af0-a0a4-f0669914aaaa",
   "metadata": {},
   "outputs": [
    {
     "data": {
      "text/plain": [
       "APPLE     40\n",
       "NAVER     40\n",
       "NVIDIA    40\n",
       "dtype: int64"
      ]
     },
     "execution_count": 8,
     "metadata": {},
     "output_type": "execute_result"
    }
   ],
   "source": [
    "Carla = pd.Series([10,20,30],index=['NAVER','APPLE','NVIDIA'])\n",
    "Elsa = pd.Series([10,30,20],index=['NVIDIA','NAVER','APPLE'])\n",
    "\n",
    "# 보유하고 있는 숫자 계산\n",
    "Carla + Elsa"
   ]
  },
  {
   "cell_type": "markdown",
   "id": "b6605ec7-db85-49ff-9925-cb0a46c57f1e",
   "metadata": {},
   "source": [
    "- 같은 종류끼리 연산을 진행 / 따로 정렬할 필요 없이"
   ]
  },
  {
   "cell_type": "code",
   "execution_count": 9,
   "id": "5f8bf2a5-9da7-4011-9c80-9fed9c9f5e08",
   "metadata": {},
   "outputs": [
    {
     "data": {
      "text/plain": [
       "APPLE     40.0\n",
       "NAVER     40.0\n",
       "NVIDIA     NaN\n",
       "TESLA      NaN\n",
       "dtype: float64"
      ]
     },
     "execution_count": 9,
     "metadata": {},
     "output_type": "execute_result"
    }
   ],
   "source": [
    "Carla = pd.Series([10,20,30],index=['NAVER','APPLE','NVIDIA'])\n",
    "Elsa = pd.Series([10,30,20],index=['TESLA','NAVER','APPLE'])\n",
    "\n",
    "# 보유하고 있는 숫자 계산\n",
    "Carla + Elsa"
   ]
  },
  {
   "cell_type": "markdown",
   "id": "7d50ef41-9c5f-4a92-9b22-0c31acf0889e",
   "metadata": {},
   "source": [
    "- 각각 NVIDIA, TESLA 는 연산할 값이 하나가 NaN이라서 결과도 NaN으로 나옴"
   ]
  },
  {
   "cell_type": "code",
   "execution_count": 10,
   "id": "cfe7e598-4b44-4e17-943c-2831b14d3d70",
   "metadata": {},
   "outputs": [
    {
     "name": "stdout",
     "output_type": "stream",
     "text": [
      "6/1    650\n",
      "6/2    550\n",
      "6/3    750\n",
      "6/4    800\n",
      "6/5    650\n",
      "dtype: int64\n"
     ]
    }
   ],
   "source": [
    "date = [\"6/1\", \"6/2\", \"6/3\", \"6/4\", \"6/5\"]\n",
    "high = pd.Series([42800, 42700, 42050, 42950, 43000], index=date)\n",
    "low = pd.Series([42150, 42150, 41300, 42150, 42350] , index=date)\n",
    "\n",
    "diff = high - low\n",
    "print(diff)"
   ]
  },
  {
   "cell_type": "code",
   "execution_count": 14,
   "id": "5a2a3bc3-fe3c-47f4-90e0-1be6c32bc88a",
   "metadata": {},
   "outputs": [
    {
     "data": {
      "text/plain": [
       "('6/4', np.int64(800))"
      ]
     },
     "execution_count": 14,
     "metadata": {},
     "output_type": "execute_result"
    }
   ],
   "source": [
    "diff.idxmax(),diff[diff.idxmax()]"
   ]
  },
  {
   "cell_type": "code",
   "execution_count": 15,
   "id": "dd4dd952-ab0c-463e-aa2b-48629ed7a35a",
   "metadata": {},
   "outputs": [
    {
     "data": {
      "text/plain": [
       "('6/2', np.int64(550))"
      ]
     },
     "execution_count": 15,
     "metadata": {},
     "output_type": "execute_result"
    }
   ],
   "source": [
    "diff.idxmin(),diff[diff.idxmin()]"
   ]
  },
  {
   "cell_type": "code",
   "execution_count": 13,
   "id": "1381fe88-45ee-44cc-bb88-1f2830f9c775",
   "metadata": {},
   "outputs": [
    {
     "data": {
      "text/plain": [
       "np.int64(800)"
      ]
     },
     "execution_count": 13,
     "metadata": {},
     "output_type": "execute_result"
    }
   ],
   "source": [
    "diff.max()"
   ]
  },
  {
   "cell_type": "code",
   "execution_count": 16,
   "id": "57474285-7008-4a8b-8e78-d972a0cb3576",
   "metadata": {},
   "outputs": [
    {
     "data": {
      "text/plain": [
       "6/1    1.015421\n",
       "6/2    1.013049\n",
       "6/3    1.018160\n",
       "6/4    1.018980\n",
       "6/5    1.015348\n",
       "dtype: float64"
      ]
     },
     "execution_count": 16,
     "metadata": {},
     "output_type": "execute_result"
    }
   ],
   "source": [
    "profit = high / low # 단순 수익률 계산\n",
    "profit"
   ]
  },
  {
   "cell_type": "code",
   "execution_count": 17,
   "id": "8f754187-925a-4f8d-91c6-af1b5ce12e42",
   "metadata": {},
   "outputs": [
    {
     "data": {
      "text/plain": [
       "6/1    1.015421\n",
       "6/2    1.028671\n",
       "6/3    1.047351\n",
       "6/4    1.067230\n",
       "6/5    1.083610\n",
       "dtype: float64"
      ]
     },
     "execution_count": 17,
     "metadata": {},
     "output_type": "execute_result"
    }
   ],
   "source": [
    "profit.cumprod() #누적곱  / 복리 개념"
   ]
  },
  {
   "cell_type": "markdown",
   "id": "76c0f7ba-5820-4e5e-865a-cc9938ea3884",
   "metadata": {},
   "source": [
    "# 시리즈와 Map"
   ]
  },
  {
   "cell_type": "code",
   "execution_count": 21,
   "id": "f2b4f463-04d0-4332-b766-715508398518",
   "metadata": {},
   "outputs": [
    {
     "data": {
      "text/plain": [
       "(int, 1234)"
      ]
     },
     "execution_count": 21,
     "metadata": {},
     "output_type": "execute_result"
    }
   ],
   "source": [
    "# '1,234'의 형 변환 str-> int 로 \n",
    "text = '1,234'\n",
    "result = int(text.replace(',',''))\n",
    "type(result),result"
   ]
  },
  {
   "cell_type": "code",
   "execution_count": 28,
   "id": "c2256d50-d3f5-46bf-8f66-6d6d1f9f4822",
   "metadata": {},
   "outputs": [
    {
     "data": {
      "text/plain": [
       "[1234, 5678, 12345]"
      ]
     },
     "execution_count": 28,
     "metadata": {},
     "output_type": "execute_result"
    }
   ],
   "source": [
    "# 반복문 작성\n",
    "num_str = ['1,234','5,678','12,345']\n",
    "results = []\n",
    "for num in num_str:\n",
    "    temp = int(num.replace(',',''))\n",
    "    results.append(temp)\n",
    "\n",
    "results\n",
    "    "
   ]
  },
  {
   "cell_type": "code",
   "execution_count": 25,
   "id": "434ee828-e16d-4447-8972-64e46839b2ca",
   "metadata": {},
   "outputs": [],
   "source": [
    "# 사용자 정의 함수를 작성함\n",
    "def rm_comma(x):\n",
    "    return int(x.replace(',',''))"
   ]
  },
  {
   "cell_type": "code",
   "execution_count": 26,
   "id": "f1a4b071-9ecb-4749-9621-7e12fa8bbeea",
   "metadata": {},
   "outputs": [
    {
     "data": {
      "text/plain": [
       "0     1234\n",
       "1     5678\n",
       "2    12345\n",
       "dtype: int64"
      ]
     },
     "execution_count": 26,
     "metadata": {},
     "output_type": "execute_result"
    }
   ],
   "source": [
    "s = pd.Series(['1,234','5,678','12,345'])\n",
    "# int(s)\n",
    "# type error 뜹니다~~\n",
    "result = s.map(rm_comma) # map 에 다가 사용자 정의 함수를 만들어서 넣으면 반복문 없이 사용 가능\n",
    "result"
   ]
  },
  {
   "cell_type": "code",
   "execution_count": 30,
   "id": "1a1b5c4c-b6cb-4538-974e-11b2e78ad2c0",
   "metadata": {},
   "outputs": [
    {
     "data": {
      "text/plain": [
       "0     1234.56\n",
       "1     5678.90\n",
       "2    12345.67\n",
       "dtype: float64"
      ]
     },
     "execution_count": 30,
     "metadata": {},
     "output_type": "execute_result"
    }
   ],
   "source": [
    "def remove_dollar_sign(x):\n",
    "    return float(x.replace('$', '').replace(',', ''))\n",
    "    \n",
    "s = pd.Series(['$1,234.56', '$5,678.90', '$12,345.67'])\n",
    "\n",
    "result = s.map(remove_dollar_sign)\n",
    "result"
   ]
  },
  {
   "cell_type": "markdown",
   "id": "5016baf2-90aa-419b-8e59-91b10faf3b63",
   "metadata": {},
   "source": [
    "### 문제\n",
    "- 기준점 13 이상\n",
    "  + 크다 or 작다"
   ]
  },
  {
   "cell_type": "code",
   "execution_count": 31,
   "id": "c318e85e-f8ff-4edf-8919-b334983274ab",
   "metadata": {},
   "outputs": [
    {
     "data": {
      "text/plain": [
       "0     5\n",
       "1    10\n",
       "2    15\n",
       "3    20\n",
       "dtype: int64"
      ]
     },
     "execution_count": 31,
     "metadata": {},
     "output_type": "execute_result"
    }
   ],
   "source": [
    "s = pd.Series([5,10,15,20])\n",
    "s"
   ]
  },
  {
   "cell_type": "code",
   "execution_count": 42,
   "id": "ec5bedf0-b370-4ee7-9fdc-df061b4cbe1f",
   "metadata": {},
   "outputs": [],
   "source": [
    "def filter(x): \n",
    "    if x > 13:\n",
    "        # print('13보다 크당') \n",
    "    else:\n",
    "        # print('13보다 작당')\n",
    "    "
   ]
  },
  {
   "cell_type": "code",
   "execution_count": 43,
   "id": "9ad8dcbd-f4a3-4efb-a92c-dcd3af45f54b",
   "metadata": {},
   "outputs": [
    {
     "name": "stdout",
     "output_type": "stream",
     "text": [
      "13보다 작당\n",
      "13보다 작당\n",
      "13보다 크당\n",
      "13보다 크당\n"
     ]
    },
    {
     "data": {
      "text/plain": [
       "0    None\n",
       "1    None\n",
       "2    None\n",
       "3    None\n",
       "dtype: object"
      ]
     },
     "execution_count": 43,
     "metadata": {},
     "output_type": "execute_result"
    }
   ],
   "source": [
    "result = s.map(filter)\n",
    "result"
   ]
  },
  {
   "cell_type": "code",
   "execution_count": 44,
   "id": "f54b41d5-867c-4998-843a-e78789305675",
   "metadata": {},
   "outputs": [
    {
     "data": {
      "text/plain": [
       "0    작다\n",
       "1    크다\n",
       "2    작다\n",
       "3    크다\n",
       "4    크다\n",
       "dtype: object"
      ]
     },
     "execution_count": 44,
     "metadata": {},
     "output_type": "execute_result"
    }
   ],
   "source": [
    "def is_greater_13(x): \n",
    "\n",
    "    return_text = None\n",
    "    if x >= 13:\n",
    "        return \"크다\"\n",
    "    else:\n",
    "        return \"작다\" \n",
    "\n",
    "s = pd.Series([10, 15, 7, 20, 13])\n",
    "s.map(is_greater_13)"
   ]
  },
  {
   "cell_type": "code",
   "execution_count": 46,
   "id": "b7e70800-2734-4783-98fa-393b63121bca",
   "metadata": {},
   "outputs": [
    {
     "data": {
      "text/plain": [
       "0    작다\n",
       "1    크다\n",
       "2    작다\n",
       "3    크다\n",
       "4    크다\n",
       "dtype: object"
      ]
     },
     "execution_count": 46,
     "metadata": {},
     "output_type": "execute_result"
    }
   ],
   "source": [
    "result = s.map(lambda x:'크다'if x >=13 else '작다' )\n",
    "result"
   ]
  },
  {
   "cell_type": "code",
   "execution_count": 47,
   "id": "9f5c7561-83a4-4c1f-9666-0ec33df96692",
   "metadata": {},
   "outputs": [
    {
     "data": {
      "text/plain": [
       "0    작다\n",
       "1    크다\n",
       "2    작다\n",
       "3    크다\n",
       "4    크다\n",
       "dtype: object"
      ]
     },
     "execution_count": 47,
     "metadata": {},
     "output_type": "execute_result"
    }
   ],
   "source": [
    "result = s.apply(lambda x:'크다'if x >=13 else '작다' )\n",
    "result"
   ]
  },
  {
   "cell_type": "markdown",
   "id": "eae70ae9-0420-4b6e-ab52-f285f660e1b6",
   "metadata": {},
   "source": [
    "## 필터링"
   ]
  },
  {
   "cell_type": "code",
   "execution_count": 53,
   "id": "eb0f118d-81a4-461c-bbeb-4b7e8b144132",
   "metadata": {},
   "outputs": [
    {
     "data": {
      "text/plain": [
       "2019-05-31    42500\n",
       "2019-05-30    42550\n",
       "2019-05-29    41800\n",
       "2019-05-28    42550\n",
       "2019-05-27    42650\n",
       "dtype: int64"
      ]
     },
     "execution_count": 53,
     "metadata": {},
     "output_type": "execute_result"
    }
   ],
   "source": [
    "data = [42500, 42550, 41800, 42550, 42650]\n",
    "index = ['2019-05-31', '2019-05-30', '2019-05-29', '2019-05-28', '2019-05-27']\n",
    "s = pd.Series(data=data, index=index)\n",
    "s"
   ]
  },
  {
   "cell_type": "code",
   "execution_count": 54,
   "id": "ab8ca6bf-bca6-4507-ae5a-330971bd65eb",
   "metadata": {},
   "outputs": [
    {
     "name": "stdout",
     "output_type": "stream",
     "text": [
      "2019-05-31     True\n",
      "2019-05-30     True\n",
      "2019-05-29    False\n",
      "2019-05-28     True\n",
      "2019-05-27     True\n",
      "dtype: bool\n"
     ]
    }
   ],
   "source": [
    "cond = s > 42000\n",
    "print(cond)"
   ]
  },
  {
   "cell_type": "code",
   "execution_count": 56,
   "id": "6f294a07-1aaa-46de-ad84-b9cc854f7030",
   "metadata": {},
   "outputs": [
    {
     "data": {
      "text/plain": [
       "2019-05-31    42500\n",
       "2019-05-30    42550\n",
       "2019-05-28    42550\n",
       "2019-05-27    42650\n",
       "dtype: int64"
      ]
     },
     "execution_count": 56,
     "metadata": {},
     "output_type": "execute_result"
    }
   ],
   "source": [
    "s[cond]"
   ]
  },
  {
   "cell_type": "code",
   "execution_count": 57,
   "id": "7b89a989-a259-4397-871d-2650c609c921",
   "metadata": {},
   "outputs": [
    {
     "data": {
      "text/plain": [
       "2019-05-31    42500\n",
       "2019-05-30    42550\n",
       "2019-05-28    42550\n",
       "2019-05-27    42650\n",
       "dtype: int64"
      ]
     },
     "execution_count": 57,
     "metadata": {},
     "output_type": "execute_result"
    }
   ],
   "source": [
    "s[s>42000]"
   ]
  },
  {
   "cell_type": "code",
   "execution_count": 59,
   "id": "7b2198b1-5973-4212-ae61-09afcdd30e86",
   "metadata": {},
   "outputs": [],
   "source": [
    "close = [42500, 42550, 41800, 42550, 42650]\n",
    "open = [42600, 42200, 41850, 42550, 42500]\n",
    "index = ['2019-05-31', '2019-05-30', '2019-05-29', '2019-05-28', '2019-05-27']\n",
    "\n",
    "open = pd.Series(data=open, index=index)\n",
    "close = pd.Series(data=close, index=index)"
   ]
  },
  {
   "cell_type": "code",
   "execution_count": 60,
   "id": "74a346ef-5502-4c9a-9c70-0d92e4ac2165",
   "metadata": {},
   "outputs": [
    {
     "name": "stdout",
     "output_type": "stream",
     "text": [
      "2019-05-31    False\n",
      "2019-05-30     True\n",
      "2019-05-29    False\n",
      "2019-05-28    False\n",
      "2019-05-27     True\n",
      "dtype: bool\n"
     ]
    }
   ],
   "source": [
    "# 종가가 시가보다 높은 날을 구하세욤\n",
    "cond = close - open > 0\n",
    "print(cond)\n",
    "# close > open"
   ]
  },
  {
   "cell_type": "code",
   "execution_count": 63,
   "id": "818f5803-fde3-4c2a-a006-99c0aca99855",
   "metadata": {},
   "outputs": [
    {
     "data": {
      "text/plain": [
       "2019-05-30    42550\n",
       "2019-05-27    42650\n",
       "dtype: int64"
      ]
     },
     "execution_count": 63,
     "metadata": {},
     "output_type": "execute_result"
    }
   ],
   "source": [
    "close[close - open > 0]\n",
    "# close[close > open]"
   ]
  },
  {
   "cell_type": "code",
   "execution_count": null,
   "id": "108db2e7-ca47-47c5-b3b3-4f4031a250a7",
   "metadata": {},
   "outputs": [],
   "source": []
  }
 ],
 "metadata": {
  "kernelspec": {
   "display_name": "Python 3 (ipykernel)",
   "language": "python",
   "name": "python3"
  },
  "language_info": {
   "codemirror_mode": {
    "name": "ipython",
    "version": 3
   },
   "file_extension": ".py",
   "mimetype": "text/x-python",
   "name": "python",
   "nbconvert_exporter": "python",
   "pygments_lexer": "ipython3",
   "version": "3.12.6"
  }
 },
 "nbformat": 4,
 "nbformat_minor": 5
}
